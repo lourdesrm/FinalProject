{
 "cells": [
  {
   "cell_type": "code",
   "execution_count": 1,
   "metadata": {},
   "outputs": [],
   "source": [
    "# import dependencies\n",
    "%matplotlib inline\n",
    "import matplotlib.pyplot as plt\n",
    "import numpy as np\n",
    "import pandas as pd"
   ]
  },
  {
   "cell_type": "code",
   "execution_count": 3,
   "metadata": {},
   "outputs": [
    {
     "data": {
      "text/plain": [
       "['Unnamed: 0',\n",
       " 'ST_CASE',\n",
       " 'PERSONS',\n",
       " 'COUNTY',\n",
       " 'CITY',\n",
       " 'DAY_x',\n",
       " 'MONTH_x',\n",
       " 'YEAR',\n",
       " 'DAY_WEEK',\n",
       " 'HOUR_x',\n",
       " 'MINUTE_x',\n",
       " 'ROUTE',\n",
       " 'TWAY_ID',\n",
       " 'TWAY_ID2',\n",
       " 'LATITUDE',\n",
       " 'LONGITUD',\n",
       " 'TYP_INT',\n",
       " 'WEATHER1',\n",
       " 'WEATHER2',\n",
       " 'WEATHER',\n",
       " 'CF1',\n",
       " 'CF2',\n",
       " 'CF3',\n",
       " 'FATALS',\n",
       " 'AGE',\n",
       " 'SEX',\n",
       " 'RACE',\n",
       " 'REST_USE',\n",
       " 'INJ_SEV',\n",
       " 'REST_MIS',\n",
       " 'EJECTION',\n",
       " 'DRINKING',\n",
       " 'ALC_RES',\n",
       " 'DRUGS',\n",
       " 'DOA',\n",
       " 'HOSPITAL',\n",
       " 'VEH_NO',\n",
       " 'NUMOCCS',\n",
       " 'DAY_y',\n",
       " 'MONTH_y',\n",
       " 'HOUR_y',\n",
       " 'MINUTE_y',\n",
       " 'BODY_TYP',\n",
       " 'TRAV_SP',\n",
       " 'DEFORMED',\n",
       " 'L_STATE',\n",
       " 'PREV_ACC',\n",
       " 'PREV_DWI',\n",
       " 'PREV_SPD',\n",
       " 'VNUM_LAN',\n",
       " 'VSPD_LIM',\n",
       " 'ACC_TYPE',\n",
       " 'DEATHS',\n",
       " 'DR_DRINK',\n",
       " 'Year']"
      ]
     },
     "execution_count": 3,
     "metadata": {},
     "output_type": "execute_result"
    }
   ],
   "source": [
    "# read in csv data into dataframe\n",
    "merged2018 = pd.read_csv('../Cleaned/2018_merged.csv')\n",
    "list(merged2018)"
   ]
  },
  {
   "cell_type": "code",
   "execution_count": 29,
   "metadata": {},
   "outputs": [
    {
     "name": "stdout",
     "output_type": "stream",
     "text": [
      "Shape:  (928, 1) (928, 1)\n"
     ]
    }
   ],
   "source": [
    "# assign X and y data for model training\n",
    "X = merged2018.ACC_TYPE.values.reshape(-1,1)\n",
    "y = merged2018.INJ_SEV.values.reshape(-1,1)\n",
    "\n",
    "print(\"Shape: \", X.shape, y.shape)\n"
   ]
  },
  {
   "cell_type": "code",
   "execution_count": 30,
   "metadata": {},
   "outputs": [
    {
     "data": {
      "text/plain": [
       "Text(0, 0.5, 'Injury Severity')"
      ]
     },
     "execution_count": 30,
     "metadata": {},
     "output_type": "execute_result"
    },
    {
     "data": {
      "image/png": "[encoded data removed]",
      "text/plain": [
       "<Figure size 432x288 with 1 Axes>"
      ]
     },
     "metadata": {
      "needs_background": "light"
     },
     "output_type": "display_data"
    }
   ],
   "source": [
    "plt.scatter(X,y)\n",
    "plt.xlabel(\"Accident Type\")\n",
    "plt.ylabel(\"Injury Severity\")"
   ]
  },
  {
   "cell_type": "code",
   "execution_count": 31,
   "metadata": {},
   "outputs": [],
   "source": [
    "from sklearn.linear_model import LinearRegression\n",
    "\n",
    "model = LinearRegression()"
   ]
  },
  {
   "cell_type": "code",
   "execution_count": 32,
   "metadata": {},
   "outputs": [
    {
     "data": {
      "text/plain": [
       "LinearRegression(copy_X=True, fit_intercept=True, n_jobs=None, normalize=False)"
      ]
     },
     "execution_count": 32,
     "metadata": {},
     "output_type": "execute_result"
    }
   ],
   "source": [
    "model.fit(X,y)"
   ]
  },
  {
   "cell_type": "code",
   "execution_count": 33,
   "metadata": {},
   "outputs": [
    {
     "name": "stdout",
     "output_type": "stream",
     "text": [
      "Weight coefficients:  [[-0.00992152]]\n",
      "y-axis intercept:  [2.84773094]\n"
     ]
    }
   ],
   "source": [
    "print('Weight coefficients: ', model.coef_)\n",
    "print('y-axis intercept: ', model.intercept_)"
   ]
  },
  {
   "cell_type": "code",
   "execution_count": 34,
   "metadata": {},
   "outputs": [],
   "source": [
    "predictions = model.predict(X)"
   ]
  },
  {
   "cell_type": "code",
   "execution_count": 35,
   "metadata": {},
   "outputs": [
    {
     "data": {
      "text/plain": [
       "[<matplotlib.lines.Line2D at 0x1a21d29ad0>]"
      ]
     },
     "execution_count": 35,
     "metadata": {},
     "output_type": "execute_result"
    },
    {
     "data": {
      "image/png": "[encoded data removed]",
      "text/plain": [
       "<Figure size 432x288 with 1 Axes>"
      ]
     },
     "metadata": {
      "needs_background": "light"
     },
     "output_type": "display_data"
    }
   ],
   "source": [
    "plt.scatter(X, y, c='blue')\n",
    "plt.xlabel(\"Accident Type\")\n",
    "plt.ylabel(\"Injury Severity\")\n",
    "plt.plot(X, predictions, c='red')"
   ]
  },
  {
   "cell_type": "code",
   "execution_count": 36,
   "metadata": {},
   "outputs": [
    {
     "data": {
      "text/plain": [
       "LinearRegression(copy_X=True, fit_intercept=True, n_jobs=None, normalize=False)"
      ]
     },
     "execution_count": 36,
     "metadata": {},
     "output_type": "execute_result"
    }
   ],
   "source": [
    "from sklearn.model_selection import train_test_split\n",
    "\n",
    "### BEGIN SOLUTION\n",
    "\n",
    "X_train, X_test, y_train, y_test = train_test_split(X, y, random_state=1)\n",
    "model.fit(X_train, y_train)"
   ]
  },
  {
   "cell_type": "code",
   "execution_count": 37,
   "metadata": {},
   "outputs": [
    {
     "name": "stdout",
     "output_type": "stream",
     "text": [
      "Mean Squared Error (MSE): 3.2154673263087643\n",
      "R-squared (R2 ): 0.041740601904439845\n"
     ]
    }
   ],
   "source": [
    "from sklearn.metrics import mean_squared_error, r2_score\n",
    "predicted = model.predict(X_test)\n",
    "# Score the predictions with mse and r2\n",
    "mse = mean_squared_error(y_test, predicted)\n",
    "r2 = r2_score(y_test, predicted)\n",
    "\n",
    "print(f\"Mean Squared Error (MSE): {mse}\")\n",
    "print(f\"R-squared (R2 ): {r2}\")"
   ]
  },
  {
   "cell_type": "code",
   "execution_count": 38,
   "metadata": {},
   "outputs": [
    {
     "data": {
      "text/plain": [
       "0.04174060190443984"
      ]
     },
     "execution_count": 38,
     "metadata": {},
     "output_type": "execute_result"
    }
   ],
   "source": [
    "model.score(X_test, y_test)"
   ]
  },
  {
   "cell_type": "code",
   "execution_count": null,
   "metadata": {},
   "outputs": [],
   "source": []
  }
 ],
 "metadata": {
  "kernelspec": {
   "display_name": "Python 3",
   "language": "python",
   "name": "python3"
  },
  "language_info": {
   "codemirror_mode": {
    "name": "ipython",
    "version": 3
   },
   "file_extension": ".py",
   "mimetype": "text/x-python",
   "name": "python",
   "nbconvert_exporter": "python",
   "pygments_lexer": "ipython3",
   "version": "3.7.4"
  }
 },
 "nbformat": 4,
 "nbformat_minor": 4
}
