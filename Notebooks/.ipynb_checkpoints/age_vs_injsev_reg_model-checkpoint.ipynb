{
 "cells": [
  {
   "cell_type": "code",
<<<<<<< HEAD
   "execution_count": 20,
=======
   "execution_count": 2,
>>>>>>> da2404f4e0bac63fafc4756c0f37d4300a02d5c7
   "metadata": {},
   "outputs": [],
   "source": [
    "# import dependencies\n",
    "%matplotlib inline\n",
    "import matplotlib.pyplot as plt\n",
    "import numpy as np\n",
    "import pandas as pd"
   ]
  },
  {
   "cell_type": "code",
<<<<<<< HEAD
   "execution_count": 21,
   "metadata": {},
=======
   "execution_count": 3,
   "metadata": {},
<<<<<<< HEAD
   "outputs": [],
=======
>>>>>>> da2404f4e0bac63fafc4756c0f37d4300a02d5c7
   "outputs": [
    {
     "data": {
      "text/plain": [
       "['Unnamed: 0',\n",
       " 'ST_CASE',\n",
       " 'PERSONS',\n",
       " 'COUNTY',\n",
       " 'CITY',\n",
       " 'DAY_x',\n",
       " 'MONTH_x',\n",
       " 'YEAR',\n",
       " 'DAY_WEEK',\n",
       " 'HOUR_x',\n",
       " 'MINUTE_x',\n",
       " 'ROUTE',\n",
       " 'TWAY_ID',\n",
       " 'TWAY_ID2',\n",
       " 'LATITUDE',\n",
       " 'LONGITUD',\n",
       " 'TYP_INT',\n",
       " 'WEATHER1',\n",
       " 'WEATHER2',\n",
       " 'WEATHER',\n",
       " 'CF1',\n",
       " 'CF2',\n",
       " 'CF3',\n",
       " 'FATALS',\n",
       " 'AGE',\n",
       " 'SEX',\n",
       " 'RACE',\n",
       " 'REST_USE',\n",
       " 'INJ_SEV',\n",
       " 'REST_MIS',\n",
       " 'EJECTION',\n",
       " 'DRINKING',\n",
       " 'ALC_RES',\n",
       " 'DRUGS',\n",
       " 'DOA',\n",
       " 'HOSPITAL',\n",
       " 'VEH_NO',\n",
       " 'NUMOCCS',\n",
       " 'DAY_y',\n",
       " 'MONTH_y',\n",
       " 'HOUR_y',\n",
       " 'MINUTE_y',\n",
       " 'BODY_TYP',\n",
       " 'TRAV_SP',\n",
       " 'DEFORMED',\n",
       " 'L_STATE',\n",
       " 'PREV_ACC',\n",
       " 'PREV_DWI',\n",
       " 'PREV_SPD',\n",
       " 'VNUM_LAN',\n",
       " 'VSPD_LIM',\n",
       " 'ACC_TYPE',\n",
       " 'DEATHS',\n",
       " 'DR_DRINK',\n",
       " 'Year']"
      ]
     },
<<<<<<< HEAD
     "execution_count": 21,
=======
     "execution_count": 3,
>>>>>>> da2404f4e0bac63fafc4756c0f37d4300a02d5c7
     "metadata": {},
     "output_type": "execute_result"
    }
   ],
<<<<<<< HEAD
   "source": [
    "# read in csv data into dataframe\n",
    "merged2018 = pd.read_csv('../Cleaned/2018_merged.csv')\n",
    "list(merged2018)"
=======
>>>>>>> 53c064a840c0af09152139a0c81f059c27ba034a
   "source": [
    "# read in csv data into dataframe\n",
    "merged2018 = pd.read_csv('../Cleaned/2018_merged.csv')\n",
    "#list(merged2018)"
>>>>>>> da2404f4e0bac63fafc4756c0f37d4300a02d5c7
   ]
  },
  {
   "cell_type": "code",
<<<<<<< HEAD
   "execution_count": 22,
=======
   "execution_count": 4,
>>>>>>> da2404f4e0bac63fafc4756c0f37d4300a02d5c7
   "metadata": {},
   "outputs": [
    {
     "name": "stdout",
     "output_type": "stream",
     "text": [
      "Shape:  (928, 1) (928, 1)\n"
     ]
    }
   ],
   "source": [
    "# assign X and y data for model training\n",
    "X = merged2018.AGE.values.reshape(-1,1)\n",
    "y = merged2018.INJ_SEV.values.reshape(-1,1)\n",
    "\n",
    "print(\"Shape: \", X.shape, y.shape)\n"
   ]
  },
  {
   "cell_type": "code",
<<<<<<< HEAD
   "execution_count": 23,
=======
   "execution_count": 5,
>>>>>>> da2404f4e0bac63fafc4756c0f37d4300a02d5c7
   "metadata": {},
   "outputs": [
    {
     "data": {
      "text/plain": [
<<<<<<< HEAD
       "<matplotlib.collections.PathCollection at 0x10522c160>"
      ]
     },
     "execution_count": 23,
=======
       "Text(0, 0.5, 'Injury Severity')"
      ]
     },
     "execution_count": 5,
>>>>>>> da2404f4e0bac63fafc4756c0f37d4300a02d5c7
     "metadata": {},
     "output_type": "execute_result"
    },
    {
     "data": {
<<<<<<< HEAD
      "image/png": "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\n",
=======
<<<<<<< HEAD
      "image/png": "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\n",
=======
      "image/png": "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\n",
>>>>>>> 53c064a840c0af09152139a0c81f059c27ba034a
>>>>>>> da2404f4e0bac63fafc4756c0f37d4300a02d5c7
      "text/plain": [
       "<Figure size 432x288 with 1 Axes>"
      ]
     },
     "metadata": {
      "needs_background": "light"
     },
     "output_type": "display_data"
    }
   ],
   "source": [
<<<<<<< HEAD
    "plt.scatter(X,y)"
=======
    "plt.scatter(X,y)\n",
    "plt.xlabel(\"Age\")\n",
    "plt.ylabel(\"Injury Severity\")"
>>>>>>> da2404f4e0bac63fafc4756c0f37d4300a02d5c7
   ]
  },
  {
   "cell_type": "code",
<<<<<<< HEAD
   "execution_count": 24,
=======
   "execution_count": 6,
>>>>>>> da2404f4e0bac63fafc4756c0f37d4300a02d5c7
   "metadata": {},
   "outputs": [],
   "source": [
    "from sklearn.linear_model import LinearRegression\n",
    "\n",
    "model = LinearRegression()"
   ]
  },
  {
   "cell_type": "code",
<<<<<<< HEAD
   "execution_count": 25,
=======
   "execution_count": 7,
>>>>>>> da2404f4e0bac63fafc4756c0f37d4300a02d5c7
   "metadata": {},
   "outputs": [
    {
     "data": {
      "text/plain": [
       "LinearRegression(copy_X=True, fit_intercept=True, n_jobs=None, normalize=False)"
      ]
     },
<<<<<<< HEAD
     "execution_count": 25,
=======
     "execution_count": 7,
>>>>>>> da2404f4e0bac63fafc4756c0f37d4300a02d5c7
     "metadata": {},
     "output_type": "execute_result"
    }
   ],
   "source": [
    "model.fit(X,y)"
   ]
  },
  {
   "cell_type": "code",
<<<<<<< HEAD
   "execution_count": 26,
=======
   "execution_count": 8,
>>>>>>> da2404f4e0bac63fafc4756c0f37d4300a02d5c7
   "metadata": {},
   "outputs": [
    {
     "name": "stdout",
     "output_type": "stream",
     "text": [
      "Weight coefficients:  [[0.00707168]]\n",
      "y-axis intercept:  [2.00769742]\n"
     ]
    }
   ],
   "source": [
    "print('Weight coefficients: ', model.coef_)\n",
    "print('y-axis intercept: ', model.intercept_)"
   ]
  },
  {
   "cell_type": "code",
<<<<<<< HEAD
   "execution_count": 27,
=======
   "execution_count": 9,
>>>>>>> da2404f4e0bac63fafc4756c0f37d4300a02d5c7
   "metadata": {},
   "outputs": [],
   "source": [
    "predictions = model.predict(X)"
   ]
  },
  {
   "cell_type": "code",
<<<<<<< HEAD
   "execution_count": 28,
=======
   "execution_count": 10,
>>>>>>> da2404f4e0bac63fafc4756c0f37d4300a02d5c7
   "metadata": {},
   "outputs": [
    {
     "data": {
      "text/plain": [
<<<<<<< HEAD
       "[<matplotlib.lines.Line2D at 0x1177e4c18>]"
      ]
     },
     "execution_count": 28,
=======
<<<<<<< HEAD
       "[<matplotlib.lines.Line2D at 0x1a1fc3d1d0>]"
=======
       "[<matplotlib.lines.Line2D at 0x1a1ca3a450>]"
>>>>>>> 53c064a840c0af09152139a0c81f059c27ba034a
      ]
     },
     "execution_count": 10,
>>>>>>> da2404f4e0bac63fafc4756c0f37d4300a02d5c7
     "metadata": {},
     "output_type": "execute_result"
    },
    {
     "data": {
<<<<<<< HEAD
      "image/png": "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\n",
=======
<<<<<<< HEAD
      "image/png": "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\n",
=======
      "image/png": "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\n",
>>>>>>> 53c064a840c0af09152139a0c81f059c27ba034a
>>>>>>> da2404f4e0bac63fafc4756c0f37d4300a02d5c7
      "text/plain": [
       "<Figure size 432x288 with 1 Axes>"
      ]
     },
     "metadata": {
      "needs_background": "light"
     },
     "output_type": "display_data"
    }
   ],
   "source": [
    "plt.scatter(X, y, c='blue')\n",
<<<<<<< HEAD
=======
<<<<<<< HEAD
    "plt.xlabel(\"Age\")\n",
=======
    "plt.xlabel(\"Type of Intersection\")\n",
>>>>>>> 53c064a840c0af09152139a0c81f059c27ba034a
    "plt.ylabel(\"Injury Severity\")\n",
>>>>>>> da2404f4e0bac63fafc4756c0f37d4300a02d5c7
    "plt.plot(X, predictions, c='red')"
   ]
  },
  {
   "cell_type": "code",
<<<<<<< HEAD
=======
<<<<<<< HEAD
   "execution_count": 14,
=======
   "execution_count": 11,
>>>>>>> 53c064a840c0af09152139a0c81f059c27ba034a
   "metadata": {},
   "outputs": [
    {
     "data": {
      "text/plain": [
       "LinearRegression(copy_X=True, fit_intercept=True, n_jobs=None, normalize=False)"
      ]
     },
<<<<<<< HEAD
     "execution_count": 14,
=======
     "execution_count": 11,
>>>>>>> 53c064a840c0af09152139a0c81f059c27ba034a
     "metadata": {},
     "output_type": "execute_result"
    }
   ],
   "source": [
    "from sklearn.model_selection import train_test_split\n",
    "\n",
    "### BEGIN SOLUTION\n",
    "\n",
    "X_train, X_test, y_train, y_test = train_test_split(X, y, random_state=1)\n",
    "model.fit(X_train, y_train)"
   ]
  },
  {
   "cell_type": "code",
<<<<<<< HEAD
   "execution_count": 15,
=======
   "execution_count": 12,
>>>>>>> 53c064a840c0af09152139a0c81f059c27ba034a
   "metadata": {},
   "outputs": [
    {
     "name": "stdout",
     "output_type": "stream",
     "text": [
      "Mean Squared Error (MSE): 3.3313281992877974\n",
      "R-squared (R2 ): 0.007212255279575586\n"
     ]
    }
   ],
   "source": [
    "from sklearn.metrics import mean_squared_error, r2_score\n",
    "predicted = model.predict(X_test)\n",
    "# Score the predictions with mse and r2\n",
    "mse = mean_squared_error(y_test, predicted)\n",
    "r2 = r2_score(y_test, predicted)\n",
    "\n",
    "print(f\"Mean Squared Error (MSE): {mse}\")\n",
    "print(f\"R-squared (R2 ): {r2}\")"
   ]
  },
  {
   "cell_type": "code",
<<<<<<< HEAD
   "execution_count": 16,
=======
   "execution_count": 13,
>>>>>>> 53c064a840c0af09152139a0c81f059c27ba034a
   "metadata": {},
   "outputs": [
    {
     "data": {
      "text/plain": [
       "0.007212255279575585"
      ]
     },
<<<<<<< HEAD
     "execution_count": 16,
=======
     "execution_count": 13,
>>>>>>> 53c064a840c0af09152139a0c81f059c27ba034a
     "metadata": {},
     "output_type": "execute_result"
    }
   ],
   "source": [
    "model.score(X_test, y_test)"
   ]
  },
  {
   "cell_type": "code",
>>>>>>> da2404f4e0bac63fafc4756c0f37d4300a02d5c7
   "execution_count": null,
   "metadata": {},
   "outputs": [],
   "source": []
  }
 ],
 "metadata": {
  "kernelspec": {
   "display_name": "Python 3",
   "language": "python",
   "name": "python3"
  },
  "language_info": {
   "codemirror_mode": {
    "name": "ipython",
    "version": 3
   },
   "file_extension": ".py",
   "mimetype": "text/x-python",
   "name": "python",
   "nbconvert_exporter": "python",
   "pygments_lexer": "ipython3",
<<<<<<< HEAD
   "version": "3.7.3"
=======
   "version": "3.7.4"
>>>>>>> da2404f4e0bac63fafc4756c0f37d4300a02d5c7
  }
 },
 "nbformat": 4,
 "nbformat_minor": 4
}
