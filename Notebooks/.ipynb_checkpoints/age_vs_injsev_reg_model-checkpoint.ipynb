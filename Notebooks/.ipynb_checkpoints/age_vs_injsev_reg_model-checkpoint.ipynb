{
 "cells": [
  {
   "cell_type": "code",
   "execution_count": 20,
   "metadata": {},
   "outputs": [],
   "source": [
    "# import dependencies\n",
    "%matplotlib inline\n",
    "import matplotlib.pyplot as plt\n",
    "import numpy as np\n",
    "import pandas as pd"
   ]
  },
  {
   "cell_type": "code",
   "execution_count": 21,
   "metadata": {},
   "outputs": [
    {
     "data": {
      "text/plain": [
       "['Unnamed: 0',\n",
       " 'ST_CASE',\n",
       " 'PERSONS',\n",
       " 'COUNTY',\n",
       " 'CITY',\n",
       " 'DAY_x',\n",
       " 'MONTH_x',\n",
       " 'YEAR',\n",
       " 'DAY_WEEK',\n",
       " 'HOUR_x',\n",
       " 'MINUTE_x',\n",
       " 'ROUTE',\n",
       " 'TWAY_ID',\n",
       " 'TWAY_ID2',\n",
       " 'LATITUDE',\n",
       " 'LONGITUD',\n",
       " 'TYP_INT',\n",
       " 'WEATHER1',\n",
       " 'WEATHER2',\n",
       " 'WEATHER',\n",
       " 'CF1',\n",
       " 'CF2',\n",
       " 'CF3',\n",
       " 'FATALS',\n",
       " 'AGE',\n",
       " 'SEX',\n",
       " 'RACE',\n",
       " 'REST_USE',\n",
       " 'INJ_SEV',\n",
       " 'REST_MIS',\n",
       " 'EJECTION',\n",
       " 'DRINKING',\n",
       " 'ALC_RES',\n",
       " 'DRUGS',\n",
       " 'DOA',\n",
       " 'HOSPITAL',\n",
       " 'VEH_NO',\n",
       " 'NUMOCCS',\n",
       " 'DAY_y',\n",
       " 'MONTH_y',\n",
       " 'HOUR_y',\n",
       " 'MINUTE_y',\n",
       " 'BODY_TYP',\n",
       " 'TRAV_SP',\n",
       " 'DEFORMED',\n",
       " 'L_STATE',\n",
       " 'PREV_ACC',\n",
       " 'PREV_DWI',\n",
       " 'PREV_SPD',\n",
       " 'VNUM_LAN',\n",
       " 'VSPD_LIM',\n",
       " 'ACC_TYPE',\n",
       " 'DEATHS',\n",
       " 'DR_DRINK',\n",
       " 'Year']"
      ]
     },
     "execution_count": 21,
     "metadata": {},
     "output_type": "execute_result"
    }
   ],
   "source": [
    "# read in csv data into dataframe\n",
    "merged2018 = pd.read_csv('../Cleaned/2018_merged.csv')\n",
    "list(merged2018)"
   ]
  },
  {
   "cell_type": "code",
   "execution_count": 22,
   "metadata": {},
   "outputs": [
    {
     "name": "stdout",
     "output_type": "stream",
     "text": [
      "Shape:  (928, 1) (928, 1)\n"
     ]
    }
   ],
   "source": [
    "# assign X and y data for model training\n",
    "X = merged2018.AGE.values.reshape(-1,1)\n",
    "y = merged2018.INJ_SEV.values.reshape(-1,1)\n",
    "\n",
    "print(\"Shape: \", X.shape, y.shape)\n"
   ]
  },
  {
   "cell_type": "code",
   "execution_count": 23,
   "metadata": {},
   "outputs": [
    {
     "data": {
      "text/plain": [
       "<matplotlib.collections.PathCollection at 0x10522c160>"
      ]
     },
     "execution_count": 23,
     "metadata": {},
     "output_type": "execute_result"
    },
    {
     "data": {
      "image/png": "[encoded data removed]",
      "text/plain": [
       "<Figure size 432x288 with 1 Axes>"
      ]
     },
     "metadata": {
      "needs_background": "light"
     },
     "output_type": "display_data"
    }
   ],
   "source": [
    "plt.scatter(X,y)"
   ]
  },
  {
   "cell_type": "code",
   "execution_count": 24,
   "metadata": {},
   "outputs": [],
   "source": [
    "from sklearn.linear_model import LinearRegression\n",
    "\n",
    "model = LinearRegression()"
   ]
  },
  {
   "cell_type": "code",
   "execution_count": 25,
   "metadata": {},
   "outputs": [
    {
     "data": {
      "text/plain": [
       "LinearRegression(copy_X=True, fit_intercept=True, n_jobs=None, normalize=False)"
      ]
     },
     "execution_count": 25,
     "metadata": {},
     "output_type": "execute_result"
    }
   ],
   "source": [
    "model.fit(X,y)"
   ]
  },
  {
   "cell_type": "code",
   "execution_count": 26,
   "metadata": {},
   "outputs": [
    {
     "name": "stdout",
     "output_type": "stream",
     "text": [
      "Weight coefficients:  [[0.00707168]]\n",
      "y-axis intercept:  [2.00769742]\n"
     ]
    }
   ],
   "source": [
    "print('Weight coefficients: ', model.coef_)\n",
    "print('y-axis intercept: ', model.intercept_)"
   ]
  },
  {
   "cell_type": "code",
   "execution_count": 27,
   "metadata": {},
   "outputs": [],
   "source": [
    "predictions = model.predict(X)"
   ]
  },
  {
   "cell_type": "code",
   "execution_count": 28,
   "metadata": {},
   "outputs": [
    {
     "data": {
      "text/plain": [
       "[<matplotlib.lines.Line2D at 0x1177e4c18>]"
      ]
     },
     "execution_count": 28,
     "metadata": {},
     "output_type": "execute_result"
    },
    {
     "data": {
      "image/png": "[encoded data removed]",
      "text/plain": [
       "<Figure size 432x288 with 1 Axes>"
      ]
     },
     "metadata": {
      "needs_background": "light"
     },
     "output_type": "display_data"
    }
   ],
   "source": [
    "plt.scatter(X, y, c='blue')\n",
    "plt.plot(X, predictions, c='red')"
   ]
  },
  {
   "cell_type": "code",
   "execution_count": null,
   "metadata": {},
   "outputs": [],
   "source": []
  }
 ],
 "metadata": {
  "kernelspec": {
   "display_name": "Python 3",
   "language": "python",
   "name": "python3"
  },
  "language_info": {
   "codemirror_mode": {
    "name": "ipython",
    "version": 3
   },
   "file_extension": ".py",
   "mimetype": "text/x-python",
   "name": "python",
   "nbconvert_exporter": "python",
   "pygments_lexer": "ipython3",
   "version": "3.7.3"
  }
 },
 "nbformat": 4,
 "nbformat_minor": 4
}
