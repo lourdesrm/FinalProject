{
 "cells": [
  {
   "cell_type": "code",
   "execution_count": 19,
   "metadata": {},
   "outputs": [],
   "source": [
    "import pandas as pd\n",
    "import os"
   ]
  },
  {
   "cell_type": "code",
   "execution_count": 20,
   "metadata": {},
   "outputs": [],
   "source": [
    "## Read in Accident CSV file"
   ]
  },
  {
   "cell_type": "code",
   "execution_count": 21,
   "metadata": {},
   "outputs": [],
   "source": [
    "file = os.path.join(\"..\",\"Raw_files\", \"FARS2018NationalCSV\",\"ACCIDENT.csv\")"
   ]
  },
  {
   "cell_type": "code",
   "execution_count": 22,
   "metadata": {},
   "outputs": [],
   "source": [
    "# create dataFrame and load in data from CSV file"
   ]
  },
  {
   "cell_type": "code",
   "execution_count": 23,
   "metadata": {},
   "outputs": [],
   "source": [
    "df = pd.read_csv(file, encoding=\"ISO-8859-1\")"
   ]
  },
  {
   "cell_type": "code",
   "execution_count": 24,
   "metadata": {},
   "outputs": [],
   "source": [
    "## Create a new dataFrame for just Texas cases since data is over 100k rows"
   ]
  },
  {
   "cell_type": "code",
   "execution_count": 25,
   "metadata": {},
   "outputs": [],
   "source": [
    "tx_df = df.loc[df['STATE'] == 48]"
   ]
  },
  {
   "cell_type": "code",
   "execution_count": 26,
   "metadata": {},
   "outputs": [],
   "source": [
    "## Checking to see if any columns have nulls"
   ]
  },
  {
   "cell_type": "code",
   "execution_count": 27,
   "metadata": {},
   "outputs": [
    {
     "data": {
      "text/plain": [
       "STATE         False\n",
       "ST_CASE       False\n",
       "VE_TOTAL      False\n",
       "VE_FORMS      False\n",
       "PVH_INVL      False\n",
       "PEDS          False\n",
       "PERNOTMVIT    False\n",
       "PERMVIT       False\n",
       "PERSONS       False\n",
       "COUNTY        False\n",
       "CITY          False\n",
       "DAY           False\n",
       "MONTH         False\n",
       "YEAR          False\n",
       "DAY_WEEK      False\n",
       "HOUR          False\n",
       "MINUTE        False\n",
       "NHS           False\n",
       "RUR_URB       False\n",
       "FUNC_SYS      False\n",
       "RD_OWNER      False\n",
       "ROUTE         False\n",
       "TWAY_ID       False\n",
       "TWAY_ID2       True\n",
       "MILEPT        False\n",
       "LATITUDE      False\n",
       "LONGITUD      False\n",
       "SP_JUR        False\n",
       "HARM_EV       False\n",
       "MAN_COLL      False\n",
       "RELJCT1       False\n",
       "RELJCT2       False\n",
       "TYP_INT       False\n",
       "WRK_ZONE      False\n",
       "REL_ROAD      False\n",
       "LGT_COND      False\n",
       "WEATHER1      False\n",
       "WEATHER2      False\n",
       "WEATHER       False\n",
       "SCH_BUS       False\n",
       "RAIL          False\n",
       "NOT_HOUR      False\n",
       "NOT_MIN       False\n",
       "ARR_HOUR      False\n",
       "ARR_MIN       False\n",
       "HOSP_HR       False\n",
       "HOSP_MN       False\n",
       "CF1           False\n",
       "CF2           False\n",
       "CF3           False\n",
       "FATALS        False\n",
       "DRUNK_DR      False\n",
       "dtype: bool"
      ]
     },
     "execution_count": 27,
     "metadata": {},
     "output_type": "execute_result"
    }
   ],
   "source": [
    "tx_df.isnull().any()"
   ]
  },
  {
   "cell_type": "code",
   "execution_count": null,
   "metadata": {},
   "outputs": [],
   "source": [
    "## Dropping Unneccesary Columns"
   ]
  },
  {
   "cell_type": "code",
   "execution_count": 35,
   "metadata": {},
   "outputs": [],
   "source": [
    "clean = tx_df.drop(columns=['STATE','VE_TOTAL', 'VE_FORMS','PVH_INVL','PEDS','PERNOTMVIT','PERMVIT','NHS','RUR_URB','FUNC_SYS','RD_OWNER','MILEPT','SP_JUR','HARM_EV','MAN_COLL','RELJCT1','RELJCT2','WRK_ZONE','REL_ROAD','LGT_COND','SCH_BUS','RAIL','NOT_HOUR','NOT_MIN','ARR_HOUR','ARR_MIN','HOSP_HR','HOSP_MN','DRUNK_DR',])"
   ]
  },
  {
   "cell_type": "code",
   "execution_count": null,
   "metadata": {},
   "outputs": [],
   "source": [
    "## Create new CSV with cleaned TX data"
   ]
  },
  {
   "cell_type": "code",
   "execution_count": null,
   "metadata": {},
   "outputs": [],
   "source": [
    "clean.to_csv('../Cleaned/Accident/2018_Accident.csv', index=False)"
   ]
  }
 ],
 "metadata": {
  "kernelspec": {
   "display_name": "Python 3",
   "language": "python",
   "name": "python3"
  },
  "language_info": {
   "codemirror_mode": {
    "name": "ipython",
    "version": 3
   },
   "file_extension": ".py",
   "mimetype": "text/x-python",
   "name": "python",
   "nbconvert_exporter": "python",
   "pygments_lexer": "ipython3",
   "version": "3.7.3"
  }
 },
 "nbformat": 4,
 "nbformat_minor": 4
}
