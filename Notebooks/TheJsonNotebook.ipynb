{
 "cells": [
  {
   "cell_type": "markdown",
   "metadata": {},
   "source": [
    "Convert csv file into JSON"
   ]
  },
  {
   "cell_type": "code",
   "execution_count": 1,
   "metadata": {},
   "outputs": [],
   "source": [
    "import pandas as pd"
   ]
  },
  {
   "cell_type": "code",
   "execution_count": 2,
   "metadata": {},
   "outputs": [],
   "source": [
    "# Import csv\n",
    "df_fatal = pd.read_csv (r'..\\Cleaned\\MASTER_fatalOnly.csv')\n",
    "df_filtered = pd.read_csv (r'..\\Cleaned\\MASTER_forPlots.csv')\n",
    "df_no_dup = pd.read_csv (r'..\\Cleaned\\MASTER_no_dup_merged.csv')"
   ]
  },
  {
   "cell_type": "code",
   "execution_count": 3,
   "metadata": {},
   "outputs": [],
   "source": [
    "# Convert to JSON\n",
    "df_fatal.to_json (r'..\\Cleaned\\Master_fatal.json')\n",
    "df_filtered.to_json (r'..\\Cleaned\\Master_filtered.json')\n",
    "df_no_dup.to_json (r'..\\Cleaned\\Master_no_duplicates.json')"
   ]
  },
  {
   "cell_type": "code",
   "execution_count": null,
   "metadata": {},
   "outputs": [],
   "source": []
  }
 ],
 "metadata": {
  "kernelspec": {
   "display_name": "Python 3",
   "language": "python",
   "name": "python3"
  },
  "language_info": {
   "codemirror_mode": {
    "name": "ipython",
    "version": 3
   },
   "file_extension": ".py",
   "mimetype": "text/x-python",
   "name": "python",
   "nbconvert_exporter": "python",
   "pygments_lexer": "ipython3",
   "version": "3.7.4"
  }
 },
 "nbformat": 4,
 "nbformat_minor": 4
}
