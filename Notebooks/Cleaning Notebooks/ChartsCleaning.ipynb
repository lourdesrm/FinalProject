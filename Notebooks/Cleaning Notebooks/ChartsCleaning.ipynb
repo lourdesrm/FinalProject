{
 "cells": [
  {
   "cell_type": "markdown",
   "metadata": {},
   "source": [
    "Formatting for Charts"
   ]
  },
  {
   "cell_type": "code",
   "execution_count": 1,
   "metadata": {},
   "outputs": [],
   "source": [
    "import os\n",
    "import pandas as pd"
   ]
  },
  {
   "cell_type": "code",
   "execution_count": 4,
   "metadata": {},
   "outputs": [],
   "source": [
    "# Import MASTER merged\n",
    "master = os.path.join(\"..\", \"Cleaned\",\"MASTER_merged.csv\")"
   ]
  },
  {
   "cell_type": "code",
   "execution_count": 5,
   "metadata": {},
   "outputs": [],
   "source": [
    "# Read imported files\n",
    "master_df=pd.read_csv(master)"
   ]
  },
  {
   "cell_type": "code",
   "execution_count": 9,
   "metadata": {},
   "outputs": [
    {
     "data": {
      "text/html": [
       "<div>\n",
       "<style scoped>\n",
       "    .dataframe tbody tr th:only-of-type {\n",
       "        vertical-align: middle;\n",
       "    }\n",
       "\n",
       "    .dataframe tbody tr th {\n",
       "        vertical-align: top;\n",
       "    }\n",
       "\n",
       "    .dataframe thead th {\n",
       "        text-align: right;\n",
       "    }\n",
       "</style>\n",
       "<table border=\"1\" class=\"dataframe\">\n",
       "  <thead>\n",
       "    <tr style=\"text-align: right;\">\n",
       "      <th></th>\n",
       "      <th>Unnamed: 0</th>\n",
       "      <th>ST_CASE</th>\n",
       "      <th>PERSONS</th>\n",
       "      <th>COUNTY</th>\n",
       "      <th>CITY</th>\n",
       "      <th>DAY</th>\n",
       "      <th>MONTH</th>\n",
       "      <th>YEAR</th>\n",
       "      <th>DAY_WEEK</th>\n",
       "      <th>HOUR</th>\n",
       "      <th>...</th>\n",
       "      <th>ALIGNMNT</th>\n",
       "      <th>PROFILE</th>\n",
       "      <th>PAVE_TYP</th>\n",
       "      <th>SUR_COND</th>\n",
       "      <th>TRA_CONT</th>\n",
       "      <th>T_CONT_F</th>\n",
       "      <th>HIT_RUN</th>\n",
       "      <th>C_M_ZONE</th>\n",
       "      <th>latitude</th>\n",
       "      <th>longitud</th>\n",
       "    </tr>\n",
       "  </thead>\n",
       "  <tbody>\n",
       "    <tr>\n",
       "      <td>0</td>\n",
       "      <td>0</td>\n",
       "      <td>480024</td>\n",
       "      <td>2</td>\n",
       "      <td>7</td>\n",
       "      <td>0</td>\n",
       "      <td>4</td>\n",
       "      <td>1</td>\n",
       "      <td>2018</td>\n",
       "      <td>5</td>\n",
       "      <td>18</td>\n",
       "      <td>...</td>\n",
       "      <td>NaN</td>\n",
       "      <td>NaN</td>\n",
       "      <td>NaN</td>\n",
       "      <td>NaN</td>\n",
       "      <td>NaN</td>\n",
       "      <td>NaN</td>\n",
       "      <td>NaN</td>\n",
       "      <td>NaN</td>\n",
       "      <td>NaN</td>\n",
       "      <td>NaN</td>\n",
       "    </tr>\n",
       "    <tr>\n",
       "      <td>1</td>\n",
       "      <td>1</td>\n",
       "      <td>480024</td>\n",
       "      <td>2</td>\n",
       "      <td>7</td>\n",
       "      <td>0</td>\n",
       "      <td>4</td>\n",
       "      <td>1</td>\n",
       "      <td>2018</td>\n",
       "      <td>5</td>\n",
       "      <td>18</td>\n",
       "      <td>...</td>\n",
       "      <td>NaN</td>\n",
       "      <td>NaN</td>\n",
       "      <td>NaN</td>\n",
       "      <td>NaN</td>\n",
       "      <td>NaN</td>\n",
       "      <td>NaN</td>\n",
       "      <td>NaN</td>\n",
       "      <td>NaN</td>\n",
       "      <td>NaN</td>\n",
       "      <td>NaN</td>\n",
       "    </tr>\n",
       "    <tr>\n",
       "      <td>2</td>\n",
       "      <td>2</td>\n",
       "      <td>480041</td>\n",
       "      <td>3</td>\n",
       "      <td>439</td>\n",
       "      <td>260</td>\n",
       "      <td>5</td>\n",
       "      <td>1</td>\n",
       "      <td>2018</td>\n",
       "      <td>6</td>\n",
       "      <td>20</td>\n",
       "      <td>...</td>\n",
       "      <td>NaN</td>\n",
       "      <td>NaN</td>\n",
       "      <td>NaN</td>\n",
       "      <td>NaN</td>\n",
       "      <td>NaN</td>\n",
       "      <td>NaN</td>\n",
       "      <td>NaN</td>\n",
       "      <td>NaN</td>\n",
       "      <td>NaN</td>\n",
       "      <td>NaN</td>\n",
       "    </tr>\n",
       "    <tr>\n",
       "      <td>3</td>\n",
       "      <td>4</td>\n",
       "      <td>480041</td>\n",
       "      <td>3</td>\n",
       "      <td>439</td>\n",
       "      <td>260</td>\n",
       "      <td>5</td>\n",
       "      <td>1</td>\n",
       "      <td>2018</td>\n",
       "      <td>6</td>\n",
       "      <td>20</td>\n",
       "      <td>...</td>\n",
       "      <td>NaN</td>\n",
       "      <td>NaN</td>\n",
       "      <td>NaN</td>\n",
       "      <td>NaN</td>\n",
       "      <td>NaN</td>\n",
       "      <td>NaN</td>\n",
       "      <td>NaN</td>\n",
       "      <td>NaN</td>\n",
       "      <td>NaN</td>\n",
       "      <td>NaN</td>\n",
       "    </tr>\n",
       "    <tr>\n",
       "      <td>4</td>\n",
       "      <td>5</td>\n",
       "      <td>480044</td>\n",
       "      <td>2</td>\n",
       "      <td>27</td>\n",
       "      <td>3690</td>\n",
       "      <td>6</td>\n",
       "      <td>1</td>\n",
       "      <td>2018</td>\n",
       "      <td>7</td>\n",
       "      <td>20</td>\n",
       "      <td>...</td>\n",
       "      <td>NaN</td>\n",
       "      <td>NaN</td>\n",
       "      <td>NaN</td>\n",
       "      <td>NaN</td>\n",
       "      <td>NaN</td>\n",
       "      <td>NaN</td>\n",
       "      <td>NaN</td>\n",
       "      <td>NaN</td>\n",
       "      <td>NaN</td>\n",
       "      <td>NaN</td>\n",
       "    </tr>\n",
       "    <tr>\n",
       "      <td>...</td>\n",
       "      <td>...</td>\n",
       "      <td>...</td>\n",
       "      <td>...</td>\n",
       "      <td>...</td>\n",
       "      <td>...</td>\n",
       "      <td>...</td>\n",
       "      <td>...</td>\n",
       "      <td>...</td>\n",
       "      <td>...</td>\n",
       "      <td>...</td>\n",
       "      <td>...</td>\n",
       "      <td>...</td>\n",
       "      <td>...</td>\n",
       "      <td>...</td>\n",
       "      <td>...</td>\n",
       "      <td>...</td>\n",
       "      <td>...</td>\n",
       "      <td>...</td>\n",
       "      <td>...</td>\n",
       "      <td>...</td>\n",
       "      <td>...</td>\n",
       "    </tr>\n",
       "    <tr>\n",
       "      <td>13421</td>\n",
       "      <td>302</td>\n",
       "      <td>483068</td>\n",
       "      <td>1</td>\n",
       "      <td>141</td>\n",
       "      <td>2190</td>\n",
       "      <td>19</td>\n",
       "      <td>12</td>\n",
       "      <td>1998</td>\n",
       "      <td>7</td>\n",
       "      <td>21</td>\n",
       "      <td>...</td>\n",
       "      <td>1.0</td>\n",
       "      <td>1.0</td>\n",
       "      <td>2.0</td>\n",
       "      <td>1.0</td>\n",
       "      <td>0.0</td>\n",
       "      <td>0.0</td>\n",
       "      <td>0.0</td>\n",
       "      <td>0.0</td>\n",
       "      <td>NaN</td>\n",
       "      <td>NaN</td>\n",
       "    </tr>\n",
       "    <tr>\n",
       "      <td>13422</td>\n",
       "      <td>303</td>\n",
       "      <td>483113</td>\n",
       "      <td>2</td>\n",
       "      <td>201</td>\n",
       "      <td>0</td>\n",
       "      <td>7</td>\n",
       "      <td>10</td>\n",
       "      <td>1998</td>\n",
       "      <td>4</td>\n",
       "      <td>13</td>\n",
       "      <td>...</td>\n",
       "      <td>1.0</td>\n",
       "      <td>1.0</td>\n",
       "      <td>1.0</td>\n",
       "      <td>1.0</td>\n",
       "      <td>0.0</td>\n",
       "      <td>0.0</td>\n",
       "      <td>0.0</td>\n",
       "      <td>0.0</td>\n",
       "      <td>NaN</td>\n",
       "      <td>NaN</td>\n",
       "    </tr>\n",
       "    <tr>\n",
       "      <td>13423</td>\n",
       "      <td>304</td>\n",
       "      <td>483113</td>\n",
       "      <td>2</td>\n",
       "      <td>201</td>\n",
       "      <td>0</td>\n",
       "      <td>7</td>\n",
       "      <td>10</td>\n",
       "      <td>1998</td>\n",
       "      <td>4</td>\n",
       "      <td>13</td>\n",
       "      <td>...</td>\n",
       "      <td>1.0</td>\n",
       "      <td>1.0</td>\n",
       "      <td>1.0</td>\n",
       "      <td>1.0</td>\n",
       "      <td>0.0</td>\n",
       "      <td>0.0</td>\n",
       "      <td>0.0</td>\n",
       "      <td>0.0</td>\n",
       "      <td>NaN</td>\n",
       "      <td>NaN</td>\n",
       "    </tr>\n",
       "    <tr>\n",
       "      <td>13424</td>\n",
       "      <td>305</td>\n",
       "      <td>483167</td>\n",
       "      <td>3</td>\n",
       "      <td>113</td>\n",
       "      <td>2590</td>\n",
       "      <td>10</td>\n",
       "      <td>7</td>\n",
       "      <td>1998</td>\n",
       "      <td>6</td>\n",
       "      <td>21</td>\n",
       "      <td>...</td>\n",
       "      <td>1.0</td>\n",
       "      <td>1.0</td>\n",
       "      <td>2.0</td>\n",
       "      <td>1.0</td>\n",
       "      <td>0.0</td>\n",
       "      <td>0.0</td>\n",
       "      <td>0.0</td>\n",
       "      <td>0.0</td>\n",
       "      <td>NaN</td>\n",
       "      <td>NaN</td>\n",
       "    </tr>\n",
       "    <tr>\n",
       "      <td>13425</td>\n",
       "      <td>306</td>\n",
       "      <td>483167</td>\n",
       "      <td>3</td>\n",
       "      <td>113</td>\n",
       "      <td>2590</td>\n",
       "      <td>10</td>\n",
       "      <td>7</td>\n",
       "      <td>1998</td>\n",
       "      <td>6</td>\n",
       "      <td>21</td>\n",
       "      <td>...</td>\n",
       "      <td>1.0</td>\n",
       "      <td>1.0</td>\n",
       "      <td>2.0</td>\n",
       "      <td>1.0</td>\n",
       "      <td>0.0</td>\n",
       "      <td>0.0</td>\n",
       "      <td>0.0</td>\n",
       "      <td>0.0</td>\n",
       "      <td>NaN</td>\n",
       "      <td>NaN</td>\n",
       "    </tr>\n",
       "  </tbody>\n",
       "</table>\n",
       "<p>13426 rows × 51 columns</p>\n",
       "</div>"
      ],
      "text/plain": [
       "       Unnamed: 0  ST_CASE  PERSONS  COUNTY  CITY  DAY  MONTH  YEAR  DAY_WEEK  \\\n",
       "0               0   480024        2       7     0    4      1  2018         5   \n",
       "1               1   480024        2       7     0    4      1  2018         5   \n",
       "2               2   480041        3     439   260    5      1  2018         6   \n",
       "3               4   480041        3     439   260    5      1  2018         6   \n",
       "4               5   480044        2      27  3690    6      1  2018         7   \n",
       "...           ...      ...      ...     ...   ...  ...    ...   ...       ...   \n",
       "13421         302   483068        1     141  2190   19     12  1998         7   \n",
       "13422         303   483113        2     201     0    7     10  1998         4   \n",
       "13423         304   483113        2     201     0    7     10  1998         4   \n",
       "13424         305   483167        3     113  2590   10      7  1998         6   \n",
       "13425         306   483167        3     113  2590   10      7  1998         6   \n",
       "\n",
       "       HOUR  ...  ALIGNMNT  PROFILE PAVE_TYP SUR_COND  TRA_CONT  T_CONT_F  \\\n",
       "0        18  ...       NaN      NaN      NaN      NaN       NaN       NaN   \n",
       "1        18  ...       NaN      NaN      NaN      NaN       NaN       NaN   \n",
       "2        20  ...       NaN      NaN      NaN      NaN       NaN       NaN   \n",
       "3        20  ...       NaN      NaN      NaN      NaN       NaN       NaN   \n",
       "4        20  ...       NaN      NaN      NaN      NaN       NaN       NaN   \n",
       "...     ...  ...       ...      ...      ...      ...       ...       ...   \n",
       "13421    21  ...       1.0      1.0      2.0      1.0       0.0       0.0   \n",
       "13422    13  ...       1.0      1.0      1.0      1.0       0.0       0.0   \n",
       "13423    13  ...       1.0      1.0      1.0      1.0       0.0       0.0   \n",
       "13424    21  ...       1.0      1.0      2.0      1.0       0.0       0.0   \n",
       "13425    21  ...       1.0      1.0      2.0      1.0       0.0       0.0   \n",
       "\n",
       "       HIT_RUN  C_M_ZONE  latitude  longitud  \n",
       "0          NaN       NaN       NaN       NaN  \n",
       "1          NaN       NaN       NaN       NaN  \n",
       "2          NaN       NaN       NaN       NaN  \n",
       "3          NaN       NaN       NaN       NaN  \n",
       "4          NaN       NaN       NaN       NaN  \n",
       "...        ...       ...       ...       ...  \n",
       "13421      0.0       0.0       NaN       NaN  \n",
       "13422      0.0       0.0       NaN       NaN  \n",
       "13423      0.0       0.0       NaN       NaN  \n",
       "13424      0.0       0.0       NaN       NaN  \n",
       "13425      0.0       0.0       NaN       NaN  \n",
       "\n",
       "[13426 rows x 51 columns]"
      ]
     },
     "execution_count": 9,
     "metadata": {},
     "output_type": "execute_result"
    }
   ],
   "source": [
    "master_df"
   ]
  },
  {
   "cell_type": "code",
   "execution_count": 10,
   "metadata": {},
   "outputs": [
    {
     "data": {
      "text/plain": [
       "Index(['Unnamed: 0', 'ST_CASE', 'PERSONS', 'COUNTY', 'CITY', 'DAY', 'MONTH',\n",
       "       'YEAR', 'DAY_WEEK', 'HOUR', 'MINUTE', 'ROUTE', 'TWAY_ID', 'TWAY_ID2',\n",
       "       'LATITUDE', 'LONGITUD', 'TYP_INT', 'WEATHER1', 'WEATHER2', 'WEATHER',\n",
       "       'CF1', 'CF2', 'CF3', 'FATALS', 'AGE', 'SEX', 'REST_USE', 'INJ_SEV',\n",
       "       'DRINKING', 'DRUGS', 'PER_TYP', 'TRAV_SP', 'PREV_ACC', 'PREV_DWI',\n",
       "       'PREV_SPD', 'Year', 'ROAD_FNC', 'REL_JUNC', 'TRAF_FLO', 'NO_LANES',\n",
       "       'SP_LIMIT', 'ALIGNMNT', 'PROFILE', 'PAVE_TYP', 'SUR_COND', 'TRA_CONT',\n",
       "       'T_CONT_F', 'HIT_RUN', 'C_M_ZONE', 'latitude', 'longitud'],\n",
       "      dtype='object')"
      ]
     },
     "execution_count": 10,
     "metadata": {},
     "output_type": "execute_result"
    }
   ],
   "source": [
    "master_df.columns"
   ]
  },
  {
   "cell_type": "code",
   "execution_count": 16,
   "metadata": {},
   "outputs": [
    {
     "data": {
      "text/plain": [
       "array([ 1, 10,  2,  8, 99,  5,  6,  7, 98,  4,  9,  3], dtype=int64)"
      ]
     },
     "execution_count": 16,
     "metadata": {},
     "output_type": "execute_result"
    }
   ],
   "source": [
    "master_df.WEATHER.unique()"
   ]
  },
  {
   "cell_type": "code",
   "execution_count": 17,
   "metadata": {},
   "outputs": [
    {
     "data": {
      "text/plain": [
       "array([ 2.,  1.,  3.,  4., 10., 98.,  5.,  7.,  6., nan])"
      ]
     },
     "execution_count": 17,
     "metadata": {},
     "output_type": "execute_result"
    }
   ],
   "source": [
    "master_df.TYP_INT.unique()"
   ]
  },
  {
   "cell_type": "code",
   "execution_count": 25,
   "metadata": {},
   "outputs": [],
   "source": [
    "# master_df['WEATHER'].replace({\"Clear\" : 1, \"Other\": 10, \"Other\": 2, \"Other\": 8, \"Other\": 99, \"Other\": 5, \"Other\": 6, \"Other\": 7, \"Other\": 98, \"Other\": 4, \"Other\": 9, \"Other\": 3}, inplace=True)\n",
    "# df[\"column1\"].replace({\"a\": \"x\", \"b\": \"y\"}, inplace=True\n",
    "master_df.WEATHER[master_df.WEATHER == 1] = 'Clear'\n",
    "master_df.WEATHER[master_df.WEATHER == 10] = 'Other'\n",
    "master_df.WEATHER[master_df.WEATHER == 2] = 'Other'\n",
    "master_df.WEATHER[master_df.WEATHER == 8] = 'Other'\n",
    "master_df.WEATHER[master_df.WEATHER == 5] = 'Other'\n",
    "master_df.WEATHER[master_df.WEATHER == 99] = 'Other'\n",
    "master_df.WEATHER[master_df.WEATHER == 6] = 'Other'\n",
    "master_df.WEATHER[master_df.WEATHER == 7] = 'Other'\n",
    "master_df.WEATHER[master_df.WEATHER == 98] = 'Other'\n",
    "master_df.WEATHER[master_df.WEATHER == 4] = 'Other'\n",
    "master_df.WEATHER[master_df.WEATHER == 9] = 'Other'\n",
    "master_df.WEATHER[master_df.WEATHER == 3] = 'Other'"
   ]
  },
  {
   "cell_type": "code",
   "execution_count": 26,
   "metadata": {},
   "outputs": [
    {
     "data": {
      "text/plain": [
       "array(['Clear', 'Other'], dtype=object)"
      ]
     },
     "execution_count": 26,
     "metadata": {},
     "output_type": "execute_result"
    }
   ],
   "source": [
    "master_df.WEATHER.unique()"
   ]
  },
  {
   "cell_type": "code",
   "execution_count": 34,
   "metadata": {},
   "outputs": [],
   "source": [
    "master_df.TYP_INT[master_df.TYP_INT == 1.0] = 'No Intersection'\n",
    "master_df.TYP_INT[master_df.TYP_INT == 2.0] = 'Intersection'\n",
    "master_df.TYP_INT[master_df.TYP_INT == 3.0] = 'Intersection'\n",
    "master_df.TYP_INT[master_df.TYP_INT == 4.0] = 'Intersection'\n",
    "master_df.TYP_INT[master_df.TYP_INT == 10.0] = 'Intersection'\n",
    "master_df.TYP_INT[master_df.TYP_INT == 98.0] = 'Intersection'\n",
    "master_df.TYP_INT[master_df.TYP_INT == 5.0] = 'Intersection'\n",
    "master_df.TYP_INT[master_df.TYP_INT == 7.0] = 'Intersection'\n",
    "master_df.TYP_INT[master_df.TYP_INT == 6.0] = 'Intersection'"
   ]
  },
  {
   "cell_type": "code",
   "execution_count": 35,
   "metadata": {},
   "outputs": [
    {
     "data": {
      "text/plain": [
       "array(['Intersection', 'No Intersection', nan], dtype=object)"
      ]
     },
     "execution_count": 35,
     "metadata": {},
     "output_type": "execute_result"
    }
   ],
   "source": [
    "master_df.TYP_INT.unique()"
   ]
  },
  {
   "cell_type": "code",
   "execution_count": 36,
   "metadata": {},
   "outputs": [
    {
     "data": {
      "text/plain": [
       "array([4, 0, 1, 3, 2, 9], dtype=int64)"
      ]
     },
     "execution_count": 36,
     "metadata": {},
     "output_type": "execute_result"
    }
   ],
   "source": [
    "master_df.INJ_SEV.unique()"
   ]
  },
  {
   "cell_type": "code",
   "execution_count": 41,
   "metadata": {},
   "outputs": [],
   "source": [
    "master_df.INJ_SEV[master_df.INJ_SEV == 4] = 'Fatal'\n",
    "master_df.INJ_SEV[master_df.INJ_SEV == 0] = 'Minor'\n",
    "master_df.INJ_SEV[master_df.INJ_SEV == 1] = 'Minor'\n",
    "master_df.INJ_SEV[master_df.INJ_SEV == 2] = 'Minor'\n",
    "master_df.INJ_SEV[master_df.INJ_SEV == 3] = 'Severe'\n",
    "master_df.INJ_SEV[master_df.INJ_SEV == 9] = 'Unknown'"
   ]
  },
  {
   "cell_type": "code",
   "execution_count": 42,
   "metadata": {},
   "outputs": [
    {
     "data": {
      "text/plain": [
       "array(['Fatal', 'Minor', 'Severe', 'Unknown'], dtype=object)"
      ]
     },
     "execution_count": 42,
     "metadata": {},
     "output_type": "execute_result"
    }
   ],
   "source": [
    "master_df.INJ_SEV.unique()"
   ]
  },
  {
   "cell_type": "code",
   "execution_count": 43,
   "metadata": {},
   "outputs": [],
   "source": [
    "master_fatal = master_df.loc[master_df['INJ_SEV'] == 'Fatal']"
   ]
  },
  {
   "cell_type": "code",
   "execution_count": 46,
   "metadata": {},
   "outputs": [],
   "source": [
    "# write stacked df to csv file\n",
    "master_fatal.to_csv('../Cleaned/MASTER_fatalOnly.csv')"
   ]
  },
  {
   "cell_type": "code",
   "execution_count": 47,
   "metadata": {},
   "outputs": [],
   "source": [
    "# write stacked df to csv file\n",
    "master_df.to_csv('../Cleaned/MASTER_forPlots.csv')"
   ]
  },
  {
   "cell_type": "code",
   "execution_count": null,
   "metadata": {},
   "outputs": [],
   "source": []
  }
 ],
 "metadata": {
  "kernelspec": {
   "display_name": "Python 3",
   "language": "python",
   "name": "python3"
  },
  "language_info": {
   "codemirror_mode": {
    "name": "ipython",
    "version": 3
   },
   "file_extension": ".py",
   "mimetype": "text/x-python",
   "name": "python",
   "nbconvert_exporter": "python",
   "pygments_lexer": "ipython3",
   "version": "3.7.4"
  }
 },
 "nbformat": 4,
 "nbformat_minor": 4
}
