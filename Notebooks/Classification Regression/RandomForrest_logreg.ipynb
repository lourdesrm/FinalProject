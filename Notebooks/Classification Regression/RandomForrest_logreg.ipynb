{
 "cells": [
  {
   "cell_type": "code",
<<<<<<< HEAD
   "execution_count": 10,
=======
<<<<<<< HEAD
   "execution_count": 272,
>>>>>>> 5416900a92418e38022b68d62de413efda263610
   "metadata": {},
   "outputs": [],
   "source": [
    "# import dependencies\n",
=======
   "execution_count": 164,
   "metadata": {},
   "outputs": [],
   "source": [
    "# Import dependencies\n",
>>>>>>> ad2ddd2c7d12b29aed1437f51a8e4132b41c7dd6
    "%matplotlib inline\n",
    "import matplotlib.pyplot as plt\n",
    "import numpy as np\n",
    "import pandas as pd\n",
<<<<<<< HEAD
    "import os"
=======
    "import os\n",
    "import pickle\n",
    "import warnings\n",
    "warnings.filterwarnings(\"ignore\")"
>>>>>>> ad2ddd2c7d12b29aed1437f51a8e4132b41c7dd6
   ]
  },
  {
   "cell_type": "code",
<<<<<<< HEAD
   "execution_count": 11,
=======
<<<<<<< HEAD
   "execution_count": 273,
>>>>>>> 5416900a92418e38022b68d62de413efda263610
   "metadata": {},
   "outputs": [],
   "source": [
    "data = pd.read_csv('../../Cleaned/machine_learn_testing.csv')\n",
    "# list(data.columns)"
=======
   "execution_count": 165,
   "metadata": {},
   "outputs": [],
   "source": [
    "# Load in CSV file for ML model to train and test with\n",
    "data = pd.read_csv('../../Cleaned/14-18_ML_test.csv')\n",
    "# Drop null or NA values from df\n",
    "data = data.dropna()"
>>>>>>> ad2ddd2c7d12b29aed1437f51a8e4132b41c7dd6
   ]
  },
  {
   "cell_type": "code",
<<<<<<< HEAD
   "execution_count": 12,
=======
<<<<<<< HEAD
   "execution_count": 274,
=======
   "execution_count": 166,
>>>>>>> ad2ddd2c7d12b29aed1437f51a8e4132b41c7dd6
>>>>>>> 5416900a92418e38022b68d62de413efda263610
   "metadata": {},
   "outputs": [
    {
     "data": {
      "text/plain": [
       "['Age',\n",
       " 'Previous Accident',\n",
       " 'Previous DWI',\n",
       " 'Previous Speeding',\n",
       " 'INJ_SEV',\n",
       " 'Helmet Use',\n",
       " 'January',\n",
       " 'February',\n",
       " 'March',\n",
       " 'April',\n",
       " 'May',\n",
       " 'June',\n",
       " 'July',\n",
       " 'August',\n",
       " 'September',\n",
       " 'October',\n",
       " 'November',\n",
       " 'December',\n",
       " 'Sunday',\n",
       " 'Monday',\n",
       " 'Tuesday',\n",
       " 'Wednesday',\n",
       " 'Thursday',\n",
       " 'Friday',\n",
       " 'Saturday',\n",
       " 'Male',\n",
       " 'Female',\n",
<<<<<<< HEAD
       " 'Gender Nuetral',\n",
=======
>>>>>>> ad2ddd2c7d12b29aed1437f51a8e4132b41c7dd6
       " 'No Drugs',\n",
       " 'Drug Use Reported',\n",
       " 'No Drinking',\n",
       " 'Drinking Reported',\n",
       " 'Clear Weather',\n",
       " 'Rainy Weather',\n",
       " 'Foggy Weather',\n",
       " 'Severly Windy Weather',\n",
       " 'Blowing Sand Weather',\n",
<<<<<<< HEAD
       " 'Other Weather',\n",
       " 'Cloudy Weather']"
      ]
     },
<<<<<<< HEAD
     "execution_count": 12,
=======
     "execution_count": 274,
=======
       " 'Cloudy Weather']"
      ]
     },
     "execution_count": 166,
>>>>>>> ad2ddd2c7d12b29aed1437f51a8e4132b41c7dd6
>>>>>>> 5416900a92418e38022b68d62de413efda263610
     "metadata": {},
     "output_type": "execute_result"
    }
   ],
   "source": [
<<<<<<< HEAD
    "data = data.drop(columns=['Unnamed: 0','Time Group'])\n",
    "# data = data.rename(columns={\"DAY_x\": \"DAY\", \"MONTH_x\": \"MONTH\",\"HOUR_x\": \"HOUR\", \"MINUTE_x\":\"MINUTE\", \"DR_DRINK\": \"DRUNK_DRIVER\", \"INJ_SEV\": \"INJ_SEVERITY\"})\n",
=======
    "# Drop the index and Time Group Columns as we do not need them for the model\n",
    "data = data.drop(columns=['Unnamed: 0','Time Group','Other Weather','Gender Neutral'])\n",
    "# Disply all column names to ensure accuracy. These will be 'X' values in Model\n",
>>>>>>> ad2ddd2c7d12b29aed1437f51a8e4132b41c7dd6
    "list(data.columns)"
   ]
  },
  {
   "cell_type": "code",
<<<<<<< HEAD
   "execution_count": 16,
   "metadata": {},
   "outputs": [
    {
     "name": "stdout",
     "output_type": "stream",
     "text": [
      "List of unique labels for Age ::: {11, 14, 15, 16, 17, 18, 19, 20, 21, 22, 23, 24, 25, 26, 27, 28, 29, 30, 31, 32, 33, 34, 35, 36, 37, 38, 39, 40, 41, 42, 43, 44, 45, 46, 47, 48, 49, 50, 51, 52, 53, 54, 55, 56, 57, 58, 59, 60, 61, 62, 63, 64, 65, 66, 67, 68, 69, 70, 71, 72, 73, 74, 75, 76, 77, 78, 79, 80, 81, 82, 83, 84, 85, 86, 87, 89, 91, 92, 998, 999}\n",
      "List of unique labels for Gender Nuetral ::: {0, 1}\n",
      "List of unique labels for Helmet Use ::: {0, 1}\n",
      "List of unique labels for Previous Accident ::: {0, 1, 2, 99, 98, 4, 998, 3}\n",
      "List of unique labels for Previous DWI ::: {0, 1, 2, 99, 3, 998}\n",
      "List of unique labels for Previous Speeding ::: {0, 1, 2, 3, 4, 5, 6, 7, 99, 998, 8, 10, 9}\n",
      "List of unique labels for INJ_SEV ::: {0, 1, 2}\n",
      "List of unique labels for January ::: {0, 1}\n",
      "List of unique labels for Male ::: {0, 1}\n",
      "List of unique labels for Female ::: {0, 1}\n",
      "List of unique labels for Gender Nuetral ::: {0, 1}\n",
      "List of unique labels for No Drugs ::: {0, 1}\n",
      "List of unique labels for Drug Use Reported ::: {0, 1}\n",
      "List of unique labels for No Drinking ::: {0, 1}\n",
      "List of unique labels for Drinking Reported ::: {0, 1}\n",
      "List of unique labels for Clear Weather ::: {0, 1}\n",
      "List of unique labels for Rainy Weather ::: {0, 1}\n",
      "List of unique labels for Foggy Weather ::: {0, 1}\n",
      "List of unique labels for Severly Windy Weather ::: {0, 1}\n",
      "List of unique labels for Blowing Sand Weather ::: {0, 1}\n",
      "List of unique labels for Other Weather ::: {0, 1}\n",
      "List of unique labels for Cloudy Weather ::: {0, 1}\n",
      "List of unique labels for Monday ::: {0, 1}\n"
     ]
    }
   ],
   "source": [
    "label_cols = ['Age','Gender Nuetral','Helmet Use','Previous Accident','Previous DWI','Previous Speeding','INJ_SEV','January','Male','Female','Gender Nuetral', 'No Drugs','Drug Use Reported', 'No Drinking','Drinking Reported','Clear Weather','Rainy Weather','Foggy Weather','Severly Windy Weather','Blowing Sand Weather','Other Weather','Cloudy Weather','Monday']\n",
    "\n",
    "for col in label_cols:\n",
    " print(f\"List of unique labels for {col} ::: {set(data[col])}\")"
   ]
  },
  {
   "cell_type": "code",
   "execution_count": 14,
=======
<<<<<<< HEAD
   "execution_count": 275,
=======
   "execution_count": 167,
>>>>>>> ad2ddd2c7d12b29aed1437f51a8e4132b41c7dd6
>>>>>>> 5416900a92418e38022b68d62de413efda263610
   "metadata": {},
   "outputs": [
    {
     "name": "stdout",
     "output_type": "stream",
     "text": [
<<<<<<< HEAD
      "(3839, 38) (3839,)\n"
=======
      "(3839, 36) (3839,)\n"
>>>>>>> ad2ddd2c7d12b29aed1437f51a8e4132b41c7dd6
     ]
    }
   ],
   "source": [
<<<<<<< HEAD
    "# X = data.drop(\"INJ_SEV\", axis =1)\n",
    "# y = data(\"INJ_SEV\")\n",
    "\n",
    "# print ('X: ' + X.shape, 'y: '+ y.shape)\n",
    "\n",
    "X = data.drop(\"INJ_SEV\", axis=1)\n",
    "y = data[\"INJ_SEV\"]\n",
=======
    "# Feeding data into our model\n",
    "X = data.drop(\"INJ_SEV\", axis=1)\n",
    "y = data[\"INJ_SEV\"]\n",
    "# Print shape of model data\n",
>>>>>>> ad2ddd2c7d12b29aed1437f51a8e4132b41c7dd6
    "print(X.shape, y.shape)"
   ]
  },
  {
   "cell_type": "code",
<<<<<<< HEAD
   "execution_count": 15,
=======
<<<<<<< HEAD
   "execution_count": 276,
>>>>>>> 5416900a92418e38022b68d62de413efda263610
   "metadata": {},
   "outputs": [
    {
     "data": {
      "text/plain": [
       "Age                      int64\n",
       "Previous Accident        int64\n",
       "Previous DWI             int64\n",
       "Previous Speeding        int64\n",
       "Helmet Use               int64\n",
       "January                  int64\n",
       "February                 int64\n",
       "March                    int64\n",
       "April                    int64\n",
       "May                      int64\n",
       "June                     int64\n",
       "July                     int64\n",
       "August                   int64\n",
       "September                int64\n",
       "October                  int64\n",
       "November                 int64\n",
       "December                 int64\n",
       "Sunday                   int64\n",
       "Monday                   int64\n",
       "Tuesday                  int64\n",
       "Wednesday                int64\n",
       "Thursday                 int64\n",
       "Friday                   int64\n",
       "Saturday                 int64\n",
       "Male                     int64\n",
       "Female                   int64\n",
       "Gender Nuetral           int64\n",
       "No Drugs                 int64\n",
       "Drug Use Reported        int64\n",
       "No Drinking              int64\n",
       "Drinking Reported        int64\n",
       "Clear Weather            int64\n",
       "Rainy Weather            int64\n",
       "Foggy Weather            int64\n",
       "Severly Windy Weather    int64\n",
       "Blowing Sand Weather     int64\n",
       "Other Weather            int64\n",
       "Cloudy Weather           int64\n",
       "dtype: object"
      ]
     },
     "execution_count": 15,
     "metadata": {},
     "output_type": "execute_result"
    }
   ],
   "source": [
    "from sklearn.model_selection import train_test_split\n",
    "\n",
<<<<<<< HEAD
    "X_train, X_test, y_train, y_test = train_test_split(X, y, random_state=20, stratify=y)\n",
    "X_train.dtypes"
=======
    "X_train, X_test, y_train, y_test = train_test_split(X, y, random_state=20, stratify=y)"
=======
   "execution_count": 168,
   "metadata": {},
   "outputs": [],
   "source": [
    "# Import TTS for training model\n",
    "from sklearn.model_selection import train_test_split\n",
    "\n",
    "X_train, X_test, y_train, y_test = train_test_split(X, y, random_state=1, stratify=y)"
>>>>>>> ad2ddd2c7d12b29aed1437f51a8e4132b41c7dd6
>>>>>>> 5416900a92418e38022b68d62de413efda263610
   ]
  },
  {
   "cell_type": "code",
<<<<<<< HEAD
   "execution_count": 277,
=======
   "execution_count": 169,
>>>>>>> ad2ddd2c7d12b29aed1437f51a8e4132b41c7dd6
   "metadata": {},
   "outputs": [
    {
     "data": {
      "text/plain": [
<<<<<<< HEAD
       "RandomForestClassifier(bootstrap=True, class_weight={0: 0.2, 1: 0.9, 2: 0.2},\n",
=======
       "RandomForestClassifier(bootstrap=True, class_weight={0: 2, 1: 0.8, 2: 0.2},\n",
>>>>>>> ad2ddd2c7d12b29aed1437f51a8e4132b41c7dd6
       "                       criterion='gini', max_depth=None, max_features='auto',\n",
       "                       max_leaf_nodes=None, min_impurity_decrease=0.0,\n",
       "                       min_impurity_split=None, min_samples_leaf=1,\n",
       "                       min_samples_split=2, min_weight_fraction_leaf=0.0,\n",
       "                       n_estimators=1000, n_jobs=None, oob_score=False,\n",
       "                       random_state=None, verbose=0, warm_start=False)"
      ]
     },
<<<<<<< HEAD
     "execution_count": 277,
=======
     "execution_count": 169,
>>>>>>> ad2ddd2c7d12b29aed1437f51a8e4132b41c7dd6
     "metadata": {},
     "output_type": "execute_result"
    }
   ],
   "source": [
<<<<<<< HEAD
    "from sklearn.ensemble import RandomForestClassifier\n",
    "weights = {0:0.2,1:0.9,2:0.2}\n",
    "grid = RandomForestClassifier(n_estimators=1000, class_weight=weights)\n",
    "grid.fit(X_train,y_train)\n",
    "\n"
=======
    "# Import Random Forest\n",
    "from sklearn.ensemble import RandomForestClassifier\n",
    "\n",
    "#giving weight to each outcome to train model\n",
    "weights = {0:2,1:0.8,2:0.2}\n",
    "\n",
    "# Creating Classifier with estimators and weights\n",
    "grid = RandomForestClassifier(n_estimators=1000, class_weight=weights)\n",
    "\n",
    "# Training the model\n",
    "grid.fit(X_train,y_train)"
>>>>>>> ad2ddd2c7d12b29aed1437f51a8e4132b41c7dd6
   ]
  },
  {
   "cell_type": "code",
<<<<<<< HEAD
   "execution_count": 278,
   "metadata": {},
   "outputs": [],
   "source": [
    "# param_grid = {\"n_estimators\" : [50, 100, 200, 300],\n",
    "#              \"max_depth\" : [None, 6, 8, 10],\n",
    "#              \"max_leaf_nodes\": [None, 5, 10, 20]}\n",
    "\n",
    "# from sklearn.model_selection import GridSearchCV\n",
    "\n",
    "# grid = GridSearchCV(classifier, param_grid=param_grid, cv=5, verbose=2)\n",
    "\n",
    "# grid.fit(X_train,y_train)"
=======
   "execution_count": 170,
   "metadata": {},
   "outputs": [],
   "source": [
    "# param_grid = {\"n_estimators\" : [50, 100, 200,250],\n",
    "#              \"max_depth\" : [None, 6, 8, 10],\n",
    "#              \"max_leaf_nodes\": [None, 5, 10, 20]}\n",
    "# from sklearn.model_selection import GridSearchCV\n",
    "# grid = GridSearchCV(grid, param_grid=param_grid, cv=5, verbose=2)\n",
    "# # grid.fit(X_train,y_train)"
>>>>>>> ad2ddd2c7d12b29aed1437f51a8e4132b41c7dd6
   ]
  },
  {
   "cell_type": "code",
<<<<<<< HEAD
   "execution_count": 279,
=======
   "execution_count": 171,
>>>>>>> ad2ddd2c7d12b29aed1437f51a8e4132b41c7dd6
   "metadata": {},
   "outputs": [
    {
     "name": "stdout",
     "output_type": "stream",
     "text": [
<<<<<<< HEAD
      "Training Data Score: 0.9940951719346995\n",
      "Testing Data Score: 0.8385416666666666\n"
=======
      "Training Data Score: 0.9947898575894408\n",
      "Testing Data Score: 0.83125\n"
>>>>>>> ad2ddd2c7d12b29aed1437f51a8e4132b41c7dd6
     ]
    }
   ],
   "source": [
<<<<<<< HEAD
=======
    "# Print Training and Test data\n",
>>>>>>> ad2ddd2c7d12b29aed1437f51a8e4132b41c7dd6
    "print(f\"Training Data Score: {grid.score(X_train, y_train)}\")\n",
    "print(f\"Testing Data Score: {grid.score(X_test, y_test)}\")"
   ]
  },
  {
   "cell_type": "code",
<<<<<<< HEAD
   "execution_count": 280,
=======
   "execution_count": 172,
>>>>>>> ad2ddd2c7d12b29aed1437f51a8e4132b41c7dd6
   "metadata": {},
   "outputs": [
    {
     "name": "stdout",
     "output_type": "stream",
     "text": [
<<<<<<< HEAD
      "First 10 Predictions:   [2 2 2 0 2 2 2 2 1 2]\n",
      "First 10 Actual labels: [2, 2, 2, 0, 2, 2, 2, 2, 1, 2]\n"
=======
      "First 10 Predictions:   [2 2 2 2 2 0 0 2 0 2]\n",
      "First 10 Actual labels: [2, 0, 2, 2, 2, 0, 1, 2, 0, 2]\n"
>>>>>>> ad2ddd2c7d12b29aed1437f51a8e4132b41c7dd6
     ]
    }
   ],
   "source": [
<<<<<<< HEAD
=======
    "# Prit out dredictions vs reality\n",
>>>>>>> ad2ddd2c7d12b29aed1437f51a8e4132b41c7dd6
    "predictions = grid.predict(X_test)\n",
    "print(f\"First 10 Predictions:   {predictions[:10]}\")\n",
    "print(f\"First 10 Actual labels: {y_test[:10].tolist()}\") "
   ]
  },
  {
   "cell_type": "code",
<<<<<<< HEAD
   "execution_count": 281,
=======
   "execution_count": 173,
>>>>>>> ad2ddd2c7d12b29aed1437f51a8e4132b41c7dd6
   "metadata": {},
   "outputs": [
    {
     "data": {
      "text/html": [
       "<div>\n",
       "<style scoped>\n",
       "    .dataframe tbody tr th:only-of-type {\n",
       "        vertical-align: middle;\n",
       "    }\n",
       "\n",
       "    .dataframe tbody tr th {\n",
       "        vertical-align: top;\n",
       "    }\n",
       "\n",
       "    .dataframe thead th {\n",
       "        text-align: right;\n",
       "    }\n",
       "</style>\n",
       "<table border=\"1\" class=\"dataframe\">\n",
       "  <thead>\n",
       "    <tr style=\"text-align: right;\">\n",
       "      <th></th>\n",
       "      <th>Prediction</th>\n",
       "      <th>Actual</th>\n",
       "      <th>P(No Injury)</th>\n",
       "      <th>P(Injury)</th>\n",
       "      <th>P(Fatility)</th>\n",
       "    </tr>\n",
       "  </thead>\n",
       "  <tbody>\n",
       "    <tr>\n",
       "      <th>0</th>\n",
       "      <td>2</td>\n",
       "      <td>2</td>\n",
<<<<<<< HEAD
       "      <td>0.025</td>\n",
       "      <td>0.154000</td>\n",
       "      <td>0.821000</td>\n",
=======
       "      <td>0.147000</td>\n",
       "      <td>0.096</td>\n",
       "      <td>0.757000</td>\n",
>>>>>>> ad2ddd2c7d12b29aed1437f51a8e4132b41c7dd6
       "    </tr>\n",
       "    <tr>\n",
       "      <th>1</th>\n",
       "      <td>2</td>\n",
<<<<<<< HEAD
       "      <td>2</td>\n",
       "      <td>0.024</td>\n",
       "      <td>0.060000</td>\n",
       "      <td>0.916000</td>\n",
=======
       "      <td>0</td>\n",
       "      <td>0.427000</td>\n",
       "      <td>0.132</td>\n",
       "      <td>0.441000</td>\n",
>>>>>>> ad2ddd2c7d12b29aed1437f51a8e4132b41c7dd6
       "    </tr>\n",
       "    <tr>\n",
       "      <th>2</th>\n",
       "      <td>2</td>\n",
       "      <td>2</td>\n",
<<<<<<< HEAD
       "      <td>0.015</td>\n",
       "      <td>0.091832</td>\n",
       "      <td>0.893168</td>\n",
       "    </tr>\n",
       "    <tr>\n",
       "      <th>3</th>\n",
       "      <td>0</td>\n",
       "      <td>0</td>\n",
       "      <td>0.917</td>\n",
       "      <td>0.075000</td>\n",
       "      <td>0.008000</td>\n",
=======
       "      <td>0.022000</td>\n",
       "      <td>0.071</td>\n",
       "      <td>0.907000</td>\n",
       "    </tr>\n",
       "    <tr>\n",
       "      <th>3</th>\n",
       "      <td>2</td>\n",
       "      <td>2</td>\n",
       "      <td>0.027000</td>\n",
       "      <td>0.287</td>\n",
       "      <td>0.686000</td>\n",
>>>>>>> ad2ddd2c7d12b29aed1437f51a8e4132b41c7dd6
       "    </tr>\n",
       "    <tr>\n",
       "      <th>4</th>\n",
       "      <td>2</td>\n",
       "      <td>2</td>\n",
<<<<<<< HEAD
       "      <td>0.010</td>\n",
       "      <td>0.136000</td>\n",
       "      <td>0.854000</td>\n",
       "    </tr>\n",
       "    <tr>\n",
       "      <th>5</th>\n",
       "      <td>2</td>\n",
       "      <td>2</td>\n",
       "      <td>0.000</td>\n",
       "      <td>0.172000</td>\n",
       "      <td>0.828000</td>\n",
       "    </tr>\n",
       "    <tr>\n",
       "      <th>6</th>\n",
       "      <td>2</td>\n",
       "      <td>2</td>\n",
       "      <td>0.004</td>\n",
       "      <td>0.026000</td>\n",
       "      <td>0.970000</td>\n",
=======
       "      <td>0.002000</td>\n",
       "      <td>0.008</td>\n",
       "      <td>0.990000</td>\n",
       "    </tr>\n",
       "    <tr>\n",
       "      <th>5</th>\n",
       "      <td>0</td>\n",
       "      <td>0</td>\n",
       "      <td>0.964000</td>\n",
       "      <td>0.014</td>\n",
       "      <td>0.022000</td>\n",
       "    </tr>\n",
       "    <tr>\n",
       "      <th>6</th>\n",
       "      <td>0</td>\n",
       "      <td>1</td>\n",
       "      <td>0.687000</td>\n",
       "      <td>0.308</td>\n",
       "      <td>0.005000</td>\n",
>>>>>>> ad2ddd2c7d12b29aed1437f51a8e4132b41c7dd6
       "    </tr>\n",
       "    <tr>\n",
       "      <th>7</th>\n",
       "      <td>2</td>\n",
       "      <td>2</td>\n",
<<<<<<< HEAD
       "      <td>0.045</td>\n",
       "      <td>0.071000</td>\n",
       "      <td>0.884000</td>\n",
       "    </tr>\n",
       "    <tr>\n",
       "      <th>8</th>\n",
       "      <td>1</td>\n",
       "      <td>1</td>\n",
       "      <td>0.078</td>\n",
       "      <td>0.737000</td>\n",
       "      <td>0.185000</td>\n",
=======
       "      <td>0.001000</td>\n",
       "      <td>0.043</td>\n",
       "      <td>0.956000</td>\n",
       "    </tr>\n",
       "    <tr>\n",
       "      <th>8</th>\n",
       "      <td>0</td>\n",
       "      <td>0</td>\n",
       "      <td>0.925909</td>\n",
       "      <td>0.009</td>\n",
       "      <td>0.065091</td>\n",
>>>>>>> ad2ddd2c7d12b29aed1437f51a8e4132b41c7dd6
       "    </tr>\n",
       "    <tr>\n",
       "      <th>9</th>\n",
       "      <td>2</td>\n",
       "      <td>2</td>\n",
<<<<<<< HEAD
       "      <td>0.027</td>\n",
       "      <td>0.004000</td>\n",
       "      <td>0.969000</td>\n",
=======
       "      <td>0.026000</td>\n",
       "      <td>0.212</td>\n",
       "      <td>0.762000</td>\n",
>>>>>>> ad2ddd2c7d12b29aed1437f51a8e4132b41c7dd6
       "    </tr>\n",
       "  </tbody>\n",
       "</table>\n",
       "</div>"
      ],
      "text/plain": [
       "   Prediction  Actual  P(No Injury)  P(Injury)  P(Fatility)\n",
<<<<<<< HEAD
       "0           2       2         0.025   0.154000     0.821000\n",
       "1           2       2         0.024   0.060000     0.916000\n",
       "2           2       2         0.015   0.091832     0.893168\n",
       "3           0       0         0.917   0.075000     0.008000\n",
       "4           2       2         0.010   0.136000     0.854000\n",
       "5           2       2         0.000   0.172000     0.828000\n",
       "6           2       2         0.004   0.026000     0.970000\n",
       "7           2       2         0.045   0.071000     0.884000\n",
       "8           1       1         0.078   0.737000     0.185000\n",
       "9           2       2         0.027   0.004000     0.969000"
      ]
     },
     "execution_count": 281,
=======
       "0           2       2      0.147000      0.096     0.757000\n",
       "1           2       0      0.427000      0.132     0.441000\n",
       "2           2       2      0.022000      0.071     0.907000\n",
       "3           2       2      0.027000      0.287     0.686000\n",
       "4           2       2      0.002000      0.008     0.990000\n",
       "5           0       0      0.964000      0.014     0.022000\n",
       "6           0       1      0.687000      0.308     0.005000\n",
       "7           2       2      0.001000      0.043     0.956000\n",
       "8           0       0      0.925909      0.009     0.065091\n",
       "9           2       2      0.026000      0.212     0.762000"
      ]
     },
     "execution_count": 173,
>>>>>>> ad2ddd2c7d12b29aed1437f51a8e4132b41c7dd6
     "metadata": {},
     "output_type": "execute_result"
    }
   ],
   "source": [
<<<<<<< HEAD
=======
    "# Visualize probability of each outcome\n",
>>>>>>> ad2ddd2c7d12b29aed1437f51a8e4132b41c7dd6
    "probs = grid.predict_proba(X_test)\n",
    "pred_df = pd.DataFrame({\n",
    "    \"Prediction\": predictions, \n",
    "    \"Actual\": y_test, \n",
    "    \"P(No Injury)\": [p[0] for p in probs], \n",
    "    \"P(Injury)\": [p[1] for p in probs],\n",
    "    \"P(Fatility)\": [p[2] for p in probs]\n",
    "    }).reset_index(drop=True)\n",
    "\n",
    "pred_df.head(10)"
   ]
  },
  {
   "cell_type": "code",
<<<<<<< HEAD
   "execution_count": 282,
   "metadata": {},
   "outputs": [],
   "source": [
=======
   "execution_count": 174,
   "metadata": {},
   "outputs": [],
   "source": [
    "# Imported so that confusion matrix can be plotted. Import code from SKLearn is broken\n",
>>>>>>> ad2ddd2c7d12b29aed1437f51a8e4132b41c7dd6
    "def plot_confusion_matrix(cm, classes,\n",
    "                          normalize=False,\n",
    "                          title='Confusion matrix',\n",
    "                          cmap=plt.cm.Blues):\n",
    "    \"\"\"\n",
    "    This function prints and plots the confusion matrix.\n",
    "    Normalization can be applied by setting `normalize=True`.\n",
    "    \"\"\"\n",
    "    import itertools\n",
    "    if normalize:\n",
    "        cm = cm.astype('float') / cm.sum(axis=1)[:, np.newaxis]\n",
    "        print(\"Normalized confusion matrix\")\n",
    "    else:\n",
    "        print('Confusion matrix, without normalization')\n",
    "\n",
    "    print(cm)\n",
    "\n",
    "    plt.imshow(cm, interpolation='nearest', cmap=cmap)\n",
    "    plt.title(title)\n",
    "    plt.colorbar()\n",
    "    tick_marks = np.arange(len(classes))\n",
    "    plt.xticks(tick_marks, classes, rotation=45)\n",
    "    plt.yticks(tick_marks, classes)\n",
    "\n",
    "    fmt = '.2f' if normalize else 'd'\n",
    "    thresh = cm.max() / 2.\n",
    "    for i, j in itertools.product(range(cm.shape[0]), range(cm.shape[1])):\n",
    "        plt.text(j, i, format(cm[i, j], fmt),\n",
    "                 horizontalalignment=\"center\",\n",
    "                 color=\"white\" if cm[i, j] > thresh else \"black\")\n",
    "\n",
    "    plt.ylabel('True label')\n",
    "    plt.xlabel('Predicted label')\n",
    "    plt.tight_layout()"
   ]
  },
  {
   "cell_type": "code",
<<<<<<< HEAD
   "execution_count": 283,
=======
   "execution_count": 175,
>>>>>>> ad2ddd2c7d12b29aed1437f51a8e4132b41c7dd6
   "metadata": {},
   "outputs": [
    {
     "name": "stdout",
     "output_type": "stream",
     "text": [
      "Confusion matrix, without normalization\n",
<<<<<<< HEAD
      "[[242  24   9]\n",
      " [ 65  37  30]\n",
      " [ 15  12 526]]\n"
=======
      "[[236  27  12]\n",
      " [ 48  41  43]\n",
      " [ 16  16 521]]\n"
>>>>>>> ad2ddd2c7d12b29aed1437f51a8e4132b41c7dd6
     ]
    },
    {
     "data": {
<<<<<<< HEAD
      "image/png": "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\n",
=======
      "image/png": "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\n",
>>>>>>> ad2ddd2c7d12b29aed1437f51a8e4132b41c7dd6
      "text/plain": [
       "<Figure size 432x288 with 2 Axes>"
      ]
     },
     "metadata": {
      "needs_background": "light"
     },
     "output_type": "display_data"
    }
   ],
   "source": [
<<<<<<< HEAD
=======
    "# Create confusion matrix and matricies for [0] - No Injury; [1] - Injured\n",
>>>>>>> ad2ddd2c7d12b29aed1437f51a8e4132b41c7dd6
    "from sklearn.metrics import confusion_matrix\n",
    "cm = confusion_matrix(y_test,predictions)\n",
    "\n",
    "plot_confusion_matrix(cm, cmap=plt.cm.Blues, classes=['No Injury','Injured','Dead'])"
   ]
  },
  {
   "cell_type": "code",
<<<<<<< HEAD
   "execution_count": 228,
   "metadata": {},
   "outputs": [
    {
     "data": {
      "text/plain": [
       "{'max_depth': 10, 'max_leaf_nodes': None, 'n_estimators': 50}"
      ]
     },
     "execution_count": 228,
     "metadata": {},
     "output_type": "execute_result"
    }
   ],
   "source": [
    "grid.best_params_"
   ]
  },
  {
   "cell_type": "code",
   "execution_count": 229,
   "metadata": {},
   "outputs": [
    {
     "data": {
      "text/plain": [
       "0.8325807572073637"
      ]
     },
     "execution_count": 229,
     "metadata": {},
     "output_type": "execute_result"
    }
   ],
   "source": [
    "grid.best_score_"
   ]
  },
  {
   "cell_type": "code",
   "execution_count": 297,
=======
   "execution_count": 176,
>>>>>>> ad2ddd2c7d12b29aed1437f51a8e4132b41c7dd6
   "metadata": {},
   "outputs": [
    {
     "data": {
      "text/html": [
       "<div>\n",
       "<style scoped>\n",
       "    .dataframe tbody tr th:only-of-type {\n",
       "        vertical-align: middle;\n",
       "    }\n",
       "\n",
       "    .dataframe tbody tr th {\n",
       "        vertical-align: top;\n",
       "    }\n",
       "\n",
       "    .dataframe thead th {\n",
       "        text-align: right;\n",
       "    }\n",
       "</style>\n",
       "<table border=\"1\" class=\"dataframe\">\n",
       "  <thead>\n",
       "    <tr style=\"text-align: right;\">\n",
       "      <th></th>\n",
       "      <th>Feature</th>\n",
       "      <th>Importance</th>\n",
       "    </tr>\n",
       "  </thead>\n",
       "  <tbody>\n",
       "    <tr>\n",
<<<<<<< HEAD
       "      <th>0</th>\n",
       "      <td>Age</td>\n",
       "      <td>0.259344</td>\n",
       "    </tr>\n",
       "    <tr>\n",
       "      <th>4</th>\n",
       "      <td>Helmet Use</td>\n",
       "      <td>0.205897</td>\n",
=======
       "      <th>4</th>\n",
       "      <td>Helmet Use</td>\n",
       "      <td>0.351653</td>\n",
       "    </tr>\n",
       "    <tr>\n",
       "      <th>0</th>\n",
       "      <td>Age</td>\n",
       "      <td>0.222486</td>\n",
>>>>>>> ad2ddd2c7d12b29aed1437f51a8e4132b41c7dd6
       "    </tr>\n",
       "    <tr>\n",
       "      <th>3</th>\n",
       "      <td>Previous Speeding</td>\n",
<<<<<<< HEAD
       "      <td>0.055182</td>\n",
=======
       "      <td>0.047660</td>\n",
>>>>>>> ad2ddd2c7d12b29aed1437f51a8e4132b41c7dd6
       "    </tr>\n",
       "    <tr>\n",
       "      <th>1</th>\n",
       "      <td>Previous Accident</td>\n",
<<<<<<< HEAD
       "      <td>0.041346</td>\n",
       "    </tr>\n",
       "    <tr>\n",
       "      <th>25</th>\n",
       "      <td>Female</td>\n",
       "      <td>0.024017</td>\n",
=======
       "      <td>0.031657</td>\n",
>>>>>>> ad2ddd2c7d12b29aed1437f51a8e4132b41c7dd6
       "    </tr>\n",
       "    <tr>\n",
       "      <th>23</th>\n",
       "      <td>Saturday</td>\n",
<<<<<<< HEAD
       "      <td>0.023601</td>\n",
       "    </tr>\n",
       "    <tr>\n",
       "      <th>24</th>\n",
       "      <td>Male</td>\n",
       "      <td>0.021671</td>\n",
=======
       "      <td>0.019891</td>\n",
>>>>>>> ad2ddd2c7d12b29aed1437f51a8e4132b41c7dd6
       "    </tr>\n",
       "    <tr>\n",
       "      <th>17</th>\n",
       "      <td>Sunday</td>\n",
<<<<<<< HEAD
       "      <td>0.019932</td>\n",
       "    </tr>\n",
       "    <tr>\n",
       "      <th>22</th>\n",
       "      <td>Friday</td>\n",
       "      <td>0.018194</td>\n",
       "    </tr>\n",
       "    <tr>\n",
       "      <th>31</th>\n",
       "      <td>Clear Weather</td>\n",
       "      <td>0.017870</td>\n",
=======
       "      <td>0.016557</td>\n",
>>>>>>> ad2ddd2c7d12b29aed1437f51a8e4132b41c7dd6
       "    </tr>\n",
       "    <tr>\n",
       "      <th>10</th>\n",
       "      <td>June</td>\n",
<<<<<<< HEAD
       "      <td>0.017792</td>\n",
       "    </tr>\n",
       "    <tr>\n",
       "      <th>11</th>\n",
       "      <td>July</td>\n",
       "      <td>0.017766</td>\n",
       "    </tr>\n",
       "    <tr>\n",
       "      <th>37</th>\n",
       "      <td>Cloudy Weather</td>\n",
       "      <td>0.017242</td>\n",
       "    </tr>\n",
       "    <tr>\n",
       "      <th>9</th>\n",
       "      <td>May</td>\n",
       "      <td>0.016929</td>\n",
=======
       "      <td>0.015762</td>\n",
       "    </tr>\n",
       "    <tr>\n",
       "      <th>30</th>\n",
       "      <td>Clear Weather</td>\n",
       "      <td>0.015291</td>\n",
       "    </tr>\n",
       "    <tr>\n",
       "      <th>22</th>\n",
       "      <td>Friday</td>\n",
       "      <td>0.014945</td>\n",
       "    </tr>\n",
       "    <tr>\n",
       "      <th>35</th>\n",
       "      <td>Cloudy Weather</td>\n",
       "      <td>0.014029</td>\n",
>>>>>>> ad2ddd2c7d12b29aed1437f51a8e4132b41c7dd6
       "    </tr>\n",
       "    <tr>\n",
       "      <th>14</th>\n",
       "      <td>October</td>\n",
<<<<<<< HEAD
       "      <td>0.016917</td>\n",
=======
       "      <td>0.013909</td>\n",
       "    </tr>\n",
       "    <tr>\n",
       "      <th>11</th>\n",
       "      <td>July</td>\n",
       "      <td>0.013446</td>\n",
>>>>>>> ad2ddd2c7d12b29aed1437f51a8e4132b41c7dd6
       "    </tr>\n",
       "    <tr>\n",
       "      <th>12</th>\n",
       "      <td>August</td>\n",
<<<<<<< HEAD
       "      <td>0.015945</td>\n",
       "    </tr>\n",
       "    <tr>\n",
       "      <th>7</th>\n",
       "      <td>March</td>\n",
       "      <td>0.015517</td>\n",
       "    </tr>\n",
       "    <tr>\n",
       "      <th>21</th>\n",
       "      <td>Thursday</td>\n",
       "      <td>0.015315</td>\n",
       "    </tr>\n",
       "    <tr>\n",
       "      <th>18</th>\n",
       "      <td>Monday</td>\n",
       "      <td>0.014731</td>\n",
       "    </tr>\n",
       "    <tr>\n",
       "      <th>8</th>\n",
       "      <td>April</td>\n",
       "      <td>0.014682</td>\n",
       "    </tr>\n",
       "    <tr>\n",
       "      <th>13</th>\n",
       "      <td>September</td>\n",
       "      <td>0.014417</td>\n",
       "    </tr>\n",
       "    <tr>\n",
       "      <th>15</th>\n",
       "      <td>November</td>\n",
       "      <td>0.014058</td>\n",
       "    </tr>\n",
       "    <tr>\n",
       "      <th>20</th>\n",
       "      <td>Wednesday</td>\n",
       "      <td>0.013497</td>\n",
=======
       "      <td>0.013190</td>\n",
       "    </tr>\n",
       "    <tr>\n",
       "      <th>13</th>\n",
       "      <td>September</td>\n",
       "      <td>0.012625</td>\n",
       "    </tr>\n",
       "    <tr>\n",
       "      <th>8</th>\n",
       "      <td>April</td>\n",
       "      <td>0.012326</td>\n",
       "    </tr>\n",
       "    <tr>\n",
       "      <th>28</th>\n",
       "      <td>No Drinking</td>\n",
       "      <td>0.012200</td>\n",
       "    </tr>\n",
       "    <tr>\n",
       "      <th>19</th>\n",
       "      <td>Tuesday</td>\n",
       "      <td>0.012024</td>\n",
       "    </tr>\n",
       "    <tr>\n",
       "      <th>9</th>\n",
       "      <td>May</td>\n",
       "      <td>0.011976</td>\n",
       "    </tr>\n",
       "    <tr>\n",
       "      <th>7</th>\n",
       "      <td>March</td>\n",
       "      <td>0.011570</td>\n",
       "    </tr>\n",
       "    <tr>\n",
       "      <th>29</th>\n",
       "      <td>Drinking Reported</td>\n",
       "      <td>0.011460</td>\n",
       "    </tr>\n",
       "    <tr>\n",
       "      <th>21</th>\n",
       "      <td>Thursday</td>\n",
       "      <td>0.011279</td>\n",
>>>>>>> ad2ddd2c7d12b29aed1437f51a8e4132b41c7dd6
       "    </tr>\n",
       "    <tr>\n",
       "      <th>6</th>\n",
       "      <td>February</td>\n",
<<<<<<< HEAD
       "      <td>0.013350</td>\n",
       "    </tr>\n",
       "    <tr>\n",
       "      <th>19</th>\n",
       "      <td>Tuesday</td>\n",
       "      <td>0.013196</td>\n",
       "    </tr>\n",
       "    <tr>\n",
       "      <th>16</th>\n",
       "      <td>December</td>\n",
       "      <td>0.011709</td>\n",
       "    </tr>\n",
       "    <tr>\n",
       "      <th>29</th>\n",
       "      <td>No Drinking</td>\n",
       "      <td>0.011527</td>\n",
       "    </tr>\n",
       "    <tr>\n",
       "      <th>5</th>\n",
       "      <td>January</td>\n",
       "      <td>0.011176</td>\n",
       "    </tr>\n",
       "    <tr>\n",
       "      <th>30</th>\n",
       "      <td>Drinking Reported</td>\n",
       "      <td>0.010882</td>\n",
       "    </tr>\n",
       "    <tr>\n",
       "      <th>27</th>\n",
       "      <td>No Drugs</td>\n",
       "      <td>0.008865</td>\n",
       "    </tr>\n",
       "    <tr>\n",
       "      <th>28</th>\n",
       "      <td>Drug Use Reported</td>\n",
       "      <td>0.008512</td>\n",
       "    </tr>\n",
       "    <tr>\n",
       "      <th>2</th>\n",
       "      <td>Previous DWI</td>\n",
       "      <td>0.008123</td>\n",
       "    </tr>\n",
       "    <tr>\n",
       "      <th>32</th>\n",
       "      <td>Rainy Weather</td>\n",
       "      <td>0.007135</td>\n",
       "    </tr>\n",
       "    <tr>\n",
       "      <th>33</th>\n",
       "      <td>Foggy Weather</td>\n",
       "      <td>0.001867</td>\n",
       "    </tr>\n",
       "    <tr>\n",
       "      <th>35</th>\n",
       "      <td>Blowing Sand Weather</td>\n",
       "      <td>0.001182</td>\n",
       "    </tr>\n",
       "    <tr>\n",
       "      <th>34</th>\n",
       "      <td>Severly Windy Weather</td>\n",
       "      <td>0.000574</td>\n",
       "    </tr>\n",
       "    <tr>\n",
       "      <th>26</th>\n",
       "      <td>Gender Nuetral</td>\n",
       "      <td>0.000040</td>\n",
       "    </tr>\n",
       "    <tr>\n",
       "      <th>36</th>\n",
       "      <td>Other Weather</td>\n",
       "      <td>0.000000</td>\n",
=======
       "      <td>0.010609</td>\n",
       "    </tr>\n",
       "    <tr>\n",
       "      <th>18</th>\n",
       "      <td>Monday</td>\n",
       "      <td>0.010500</td>\n",
       "    </tr>\n",
       "    <tr>\n",
       "      <th>25</th>\n",
       "      <td>Female</td>\n",
       "      <td>0.010439</td>\n",
       "    </tr>\n",
       "    <tr>\n",
       "      <th>15</th>\n",
       "      <td>November</td>\n",
       "      <td>0.009734</td>\n",
       "    </tr>\n",
       "    <tr>\n",
       "      <th>26</th>\n",
       "      <td>No Drugs</td>\n",
       "      <td>0.009724</td>\n",
       "    </tr>\n",
       "    <tr>\n",
       "      <th>24</th>\n",
       "      <td>Male</td>\n",
       "      <td>0.009477</td>\n",
       "    </tr>\n",
       "    <tr>\n",
       "      <th>20</th>\n",
       "      <td>Wednesday</td>\n",
       "      <td>0.009440</td>\n",
       "    </tr>\n",
       "    <tr>\n",
       "      <th>27</th>\n",
       "      <td>Drug Use Reported</td>\n",
       "      <td>0.009328</td>\n",
       "    </tr>\n",
       "    <tr>\n",
       "      <th>5</th>\n",
       "      <td>January</td>\n",
       "      <td>0.009091</td>\n",
       "    </tr>\n",
       "    <tr>\n",
       "      <th>16</th>\n",
       "      <td>December</td>\n",
       "      <td>0.007932</td>\n",
       "    </tr>\n",
       "    <tr>\n",
       "      <th>2</th>\n",
       "      <td>Previous DWI</td>\n",
       "      <td>0.006190</td>\n",
       "    </tr>\n",
       "    <tr>\n",
       "      <th>31</th>\n",
       "      <td>Rainy Weather</td>\n",
       "      <td>0.005228</td>\n",
       "    </tr>\n",
       "    <tr>\n",
       "      <th>34</th>\n",
       "      <td>Blowing Sand Weather</td>\n",
       "      <td>0.003037</td>\n",
       "    </tr>\n",
       "    <tr>\n",
       "      <th>32</th>\n",
       "      <td>Foggy Weather</td>\n",
       "      <td>0.001950</td>\n",
       "    </tr>\n",
       "    <tr>\n",
       "      <th>33</th>\n",
       "      <td>Severly Windy Weather</td>\n",
       "      <td>0.001386</td>\n",
>>>>>>> ad2ddd2c7d12b29aed1437f51a8e4132b41c7dd6
       "    </tr>\n",
       "  </tbody>\n",
       "</table>\n",
       "</div>"
      ],
      "text/plain": [
       "                  Feature  Importance\n",
<<<<<<< HEAD
       "0                     Age    0.259344\n",
       "4              Helmet Use    0.205897\n",
       "3       Previous Speeding    0.055182\n",
       "1       Previous Accident    0.041346\n",
       "25                 Female    0.024017\n",
       "23               Saturday    0.023601\n",
       "24                   Male    0.021671\n",
       "17                 Sunday    0.019932\n",
       "22                 Friday    0.018194\n",
       "31          Clear Weather    0.017870\n",
       "10                   June    0.017792\n",
       "11                   July    0.017766\n",
       "37         Cloudy Weather    0.017242\n",
       "9                     May    0.016929\n",
       "14                October    0.016917\n",
       "12                 August    0.015945\n",
       "7                   March    0.015517\n",
       "21               Thursday    0.015315\n",
       "18                 Monday    0.014731\n",
       "8                   April    0.014682\n",
       "13              September    0.014417\n",
       "15               November    0.014058\n",
       "20              Wednesday    0.013497\n",
       "6                February    0.013350\n",
       "19                Tuesday    0.013196\n",
       "16               December    0.011709\n",
       "29            No Drinking    0.011527\n",
       "5                 January    0.011176\n",
       "30      Drinking Reported    0.010882\n",
       "27               No Drugs    0.008865\n",
       "28      Drug Use Reported    0.008512\n",
       "2            Previous DWI    0.008123\n",
       "32          Rainy Weather    0.007135\n",
       "33          Foggy Weather    0.001867\n",
       "35   Blowing Sand Weather    0.001182\n",
       "34  Severly Windy Weather    0.000574\n",
       "26         Gender Nuetral    0.000040\n",
       "36          Other Weather    0.000000"
      ]
     },
     "execution_count": 297,
=======
       "4              Helmet Use    0.351653\n",
       "0                     Age    0.222486\n",
       "3       Previous Speeding    0.047660\n",
       "1       Previous Accident    0.031657\n",
       "23               Saturday    0.019891\n",
       "17                 Sunday    0.016557\n",
       "10                   June    0.015762\n",
       "30          Clear Weather    0.015291\n",
       "22                 Friday    0.014945\n",
       "35         Cloudy Weather    0.014029\n",
       "14                October    0.013909\n",
       "11                   July    0.013446\n",
       "12                 August    0.013190\n",
       "13              September    0.012625\n",
       "8                   April    0.012326\n",
       "28            No Drinking    0.012200\n",
       "19                Tuesday    0.012024\n",
       "9                     May    0.011976\n",
       "7                   March    0.011570\n",
       "29      Drinking Reported    0.011460\n",
       "21               Thursday    0.011279\n",
       "6                February    0.010609\n",
       "18                 Monday    0.010500\n",
       "25                 Female    0.010439\n",
       "15               November    0.009734\n",
       "26               No Drugs    0.009724\n",
       "24                   Male    0.009477\n",
       "20              Wednesday    0.009440\n",
       "27      Drug Use Reported    0.009328\n",
       "5                 January    0.009091\n",
       "16               December    0.007932\n",
       "2            Previous DWI    0.006190\n",
       "31          Rainy Weather    0.005228\n",
       "34   Blowing Sand Weather    0.003037\n",
       "32          Foggy Weather    0.001950\n",
       "33  Severly Windy Weather    0.001386"
      ]
     },
     "execution_count": 176,
>>>>>>> ad2ddd2c7d12b29aed1437f51a8e4132b41c7dd6
     "metadata": {},
     "output_type": "execute_result"
    }
   ],
   "source": [
<<<<<<< HEAD
=======
    "# Plot out feature importance descending\n",
>>>>>>> ad2ddd2c7d12b29aed1437f51a8e4132b41c7dd6
    "pd.DataFrame({'Feature':X_train.columns, 'Importance':grid.feature_importances_}).sort_values(by='Importance', ascending=False)"
   ]
  },
  {
   "cell_type": "code",
<<<<<<< HEAD
   "execution_count": 290,
   "metadata": {},
   "outputs": [
    {
     "data": {
      "text/plain": [
       "[0.25934367009781145,\n",
       " 0.04134574071391504,\n",
       " 0.008123384930893854,\n",
       " 0.05518156946809162,\n",
       " 0.20589692181498806,\n",
       " 0.011176372369908285,\n",
       " 0.013350426920206337,\n",
       " 0.015516547307372291,\n",
       " 0.014682385872625875,\n",
       " 0.016929309333705865,\n",
       " 0.01779218404574474,\n",
       " 0.017765582835968918,\n",
       " 0.015944751752580255,\n",
       " 0.014417225168544181,\n",
       " 0.01691661499527202,\n",
       " 0.01405798209798017,\n",
       " 0.011709218486461778,\n",
       " 0.019932077260034195,\n",
       " 0.014731300208546572,\n",
       " 0.013196272636992511,\n",
       " 0.013496572533386972,\n",
       " 0.015315357037485787,\n",
       " 0.018194014890677943,\n",
       " 0.023601214301379687,\n",
       " 0.021670694835178916,\n",
       " 0.0240170896632461,\n",
       " 4.0248244898860704e-05,\n",
       " 0.008864893539561094,\n",
       " 0.008511604482270396,\n",
       " 0.011527466049790675,\n",
       " 0.010881851312600284,\n",
       " 0.0178695681377106,\n",
       " 0.007135022722133621,\n",
       " 0.001866846005005388,\n",
       " 0.0005744300706974288,\n",
       " 0.0011817231284584335,\n",
       " 0.0,\n",
       " 0.01724186472787397]"
      ]
     },
     "execution_count": 290,
     "metadata": {},
     "output_type": "execute_result"
    }
   ],
   "source": [
    "list(grid.feature_importances_)\n"
=======
   "execution_count": 177,
   "metadata": {},
   "outputs": [],
   "source": [
    "import pickle\n",
    "\n",
    "with open('RF_model.pkl','wb') as f:\n",
    "    pickle.dump(grid, f)"
   ]
  },
  {
   "cell_type": "code",
   "execution_count": 178,
   "metadata": {},
   "outputs": [],
   "source": [
    "with open('RF_model.pkl', 'rb') as f:\n",
    "    model = pickle.load(f)\n"
   ]
  },
  {
   "cell_type": "code",
   "execution_count": 179,
   "metadata": {},
   "outputs": [
    {
     "name": "stdout",
     "output_type": "stream",
     "text": [
      "Test set score: 0.83125\n"
     ]
    }
   ],
   "source": [
    "print(f\"Test set score: {model.score(X_test, y_test)}\")"
>>>>>>> ad2ddd2c7d12b29aed1437f51a8e4132b41c7dd6
   ]
  },
  {
   "cell_type": "code",
<<<<<<< HEAD
   "execution_count": 288,
=======
   "execution_count": 180,
>>>>>>> ad2ddd2c7d12b29aed1437f51a8e4132b41c7dd6
   "metadata": {},
   "outputs": [
    {
     "data": {
      "text/plain": [
<<<<<<< HEAD
       "['Age',\n",
       " 'Previous Accident',\n",
       " 'Previous DWI',\n",
       " 'Previous Speeding',\n",
       " 'Helmet Use',\n",
       " 'January',\n",
       " 'February',\n",
       " 'March',\n",
       " 'April',\n",
       " 'May',\n",
       " 'June',\n",
       " 'July',\n",
       " 'August',\n",
       " 'September',\n",
       " 'October',\n",
       " 'November',\n",
       " 'December',\n",
       " 'Sunday',\n",
       " 'Monday',\n",
       " 'Tuesday',\n",
       " 'Wednesday',\n",
       " 'Thursday',\n",
       " 'Friday',\n",
       " 'Saturday',\n",
       " 'Male',\n",
       " 'Female',\n",
       " 'Gender Nuetral',\n",
       " 'No Drugs',\n",
       " 'Drug Use Reported',\n",
       " 'No Drinking',\n",
       " 'Drinking Reported',\n",
       " 'Clear Weather',\n",
       " 'Rainy Weather',\n",
       " 'Foggy Weather',\n",
       " 'Severly Windy Weather',\n",
       " 'Blowing Sand Weather',\n",
       " 'Other Weather',\n",
       " 'Cloudy Weather']"
      ]
     },
     "execution_count": 288,
=======
       "RandomForestClassifier(bootstrap=True, class_weight={0: 2, 1: 0.8, 2: 0.2},\n",
       "                       criterion='gini', max_depth=None, max_features='auto',\n",
       "                       max_leaf_nodes=None, min_impurity_decrease=0.0,\n",
       "                       min_impurity_split=None, min_samples_leaf=1,\n",
       "                       min_samples_split=2, min_weight_fraction_leaf=0.0,\n",
       "                       n_estimators=1000, n_jobs=None, oob_score=False,\n",
       "                       random_state=None, verbose=0, warm_start=False)"
      ]
     },
     "execution_count": 180,
>>>>>>> ad2ddd2c7d12b29aed1437f51a8e4132b41c7dd6
     "metadata": {},
     "output_type": "execute_result"
    }
   ],
   "source": [
<<<<<<< HEAD
    "list(X_train.columns)"
=======
    "model"
>>>>>>> ad2ddd2c7d12b29aed1437f51a8e4132b41c7dd6
   ]
  },
  {
   "cell_type": "code",
   "execution_count": null,
   "metadata": {},
   "outputs": [],
   "source": []
  }
 ],
 "metadata": {
  "kernelspec": {
   "display_name": "Python 3",
   "language": "python",
   "name": "python3"
  },
  "language_info": {
   "codemirror_mode": {
    "name": "ipython",
    "version": 3
   },
   "file_extension": ".py",
   "mimetype": "text/x-python",
   "name": "python",
   "nbconvert_exporter": "python",
   "pygments_lexer": "ipython3",
   "version": "3.7.4"
  }
 },
 "nbformat": 4,
 "nbformat_minor": 4
}
