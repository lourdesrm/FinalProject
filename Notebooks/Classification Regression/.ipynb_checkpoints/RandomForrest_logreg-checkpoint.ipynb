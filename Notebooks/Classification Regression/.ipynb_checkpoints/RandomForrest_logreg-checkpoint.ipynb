{
 "cells": [
  {
   "cell_type": "code",
<<<<<<< HEAD
   "execution_count": 272,
   "metadata": {},
   "outputs": [],
   "source": [
    "# import dependencies\n",
=======
   "execution_count": 109,
   "metadata": {},
   "outputs": [],
   "source": [
    "# Import dependencies\n",
>>>>>>> ad2ddd2c7d12b29aed1437f51a8e4132b41c7dd6
    "%matplotlib inline\n",
    "import matplotlib.pyplot as plt\n",
    "import numpy as np\n",
    "import pandas as pd\n",
    "import os"
   ]
  },
  {
   "cell_type": "code",
<<<<<<< HEAD
   "execution_count": 273,
   "metadata": {},
   "outputs": [],
   "source": [
    "data = pd.read_csv('../../Cleaned/machine_learn_testing.csv')\n",
    "# list(data.columns)"
=======
   "execution_count": 112,
   "metadata": {},
   "outputs": [],
   "source": [
    "# Load in CSV file for ML model to train and test with\n",
    "data = pd.read_csv('../../Cleaned/14-18_ML_test.csv')\n",
    "# Drop null or NA values from df\n",
    "data = data.dropna()"
>>>>>>> ad2ddd2c7d12b29aed1437f51a8e4132b41c7dd6
   ]
  },
  {
   "cell_type": "code",
<<<<<<< HEAD
   "execution_count": 274,
=======
   "execution_count": 113,
>>>>>>> ad2ddd2c7d12b29aed1437f51a8e4132b41c7dd6
   "metadata": {},
   "outputs": [
    {
     "data": {
      "text/plain": [
       "['Age',\n",
       " 'Previous Accident',\n",
       " 'Previous DWI',\n",
       " 'Previous Speeding',\n",
       " 'INJ_SEV',\n",
       " 'Helmet Use',\n",
       " 'January',\n",
       " 'February',\n",
       " 'March',\n",
       " 'April',\n",
       " 'May',\n",
       " 'June',\n",
       " 'July',\n",
       " 'August',\n",
       " 'September',\n",
       " 'October',\n",
       " 'November',\n",
       " 'December',\n",
       " 'Sunday',\n",
       " 'Monday',\n",
       " 'Tuesday',\n",
       " 'Wednesday',\n",
       " 'Thursday',\n",
       " 'Friday',\n",
       " 'Saturday',\n",
       " 'Male',\n",
       " 'Female',\n",
<<<<<<< HEAD
       " 'Gender Nuetral',\n",
=======
       " 'Gender Neutral',\n",
>>>>>>> ad2ddd2c7d12b29aed1437f51a8e4132b41c7dd6
       " 'No Drugs',\n",
       " 'Drug Use Reported',\n",
       " 'No Drinking',\n",
       " 'Drinking Reported',\n",
       " 'Clear Weather',\n",
       " 'Rainy Weather',\n",
       " 'Foggy Weather',\n",
       " 'Severly Windy Weather',\n",
       " 'Blowing Sand Weather',\n",
       " 'Other Weather',\n",
       " 'Cloudy Weather']"
      ]
     },
<<<<<<< HEAD
     "execution_count": 274,
=======
     "execution_count": 113,
>>>>>>> ad2ddd2c7d12b29aed1437f51a8e4132b41c7dd6
     "metadata": {},
     "output_type": "execute_result"
    }
   ],
   "source": [
<<<<<<< HEAD
    "data = data.drop(columns=['Unnamed: 0','Time Group'])\n",
    "# data = data.rename(columns={\"DAY_x\": \"DAY\", \"MONTH_x\": \"MONTH\",\"HOUR_x\": \"HOUR\", \"MINUTE_x\":\"MINUTE\", \"DR_DRINK\": \"DRUNK_DRIVER\", \"INJ_SEV\": \"INJ_SEVERITY\"})\n",
=======
    "# Drop the index and Time Group Columns as we do not need them for the model\n",
    "data = data.drop(columns=['Unnamed: 0','Time Group'])\n",
    "# Disply all column names to ensure accuracy. These will be 'X' values in Model\n",
>>>>>>> ad2ddd2c7d12b29aed1437f51a8e4132b41c7dd6
    "list(data.columns)"
   ]
  },
  {
   "cell_type": "code",
<<<<<<< HEAD
   "execution_count": 275,
=======
   "execution_count": 114,
>>>>>>> ad2ddd2c7d12b29aed1437f51a8e4132b41c7dd6
   "metadata": {},
   "outputs": [
    {
     "name": "stdout",
     "output_type": "stream",
     "text": [
      "(3839, 38) (3839,)\n"
     ]
    }
   ],
   "source": [
<<<<<<< HEAD
    "# X = data.drop(\"INJ_SEV\", axis =1)\n",
    "# y = data(\"INJ_SEV\")\n",
    "\n",
    "# print ('X: ' + X.shape, 'y: '+ y.shape)\n",
    "\n",
    "X = data.drop(\"INJ_SEV\", axis=1)\n",
    "y = data[\"INJ_SEV\"]\n",
=======
    "# Feeding data into our model\n",
    "X = data.drop(\"INJ_SEV\", axis=1)\n",
    "y = data[\"INJ_SEV\"]\n",
    "# Print shape of model data\n",
>>>>>>> ad2ddd2c7d12b29aed1437f51a8e4132b41c7dd6
    "print(X.shape, y.shape)"
   ]
  },
  {
   "cell_type": "code",
<<<<<<< HEAD
   "execution_count": 276,
   "metadata": {},
   "outputs": [],
   "source": [
    "from sklearn.model_selection import train_test_split\n",
    "\n",
    "X_train, X_test, y_train, y_test = train_test_split(X, y, random_state=20, stratify=y)"
=======
   "execution_count": 115,
   "metadata": {},
   "outputs": [],
   "source": [
    "# Import TTS for training model\n",
    "from sklearn.model_selection import train_test_split\n",
    "\n",
    "X_train, X_test, y_train, y_test = train_test_split(X, y, random_state=1, stratify=y)"
>>>>>>> ad2ddd2c7d12b29aed1437f51a8e4132b41c7dd6
   ]
  },
  {
   "cell_type": "code",
<<<<<<< HEAD
   "execution_count": 277,
=======
   "execution_count": 117,
>>>>>>> ad2ddd2c7d12b29aed1437f51a8e4132b41c7dd6
   "metadata": {},
   "outputs": [
    {
     "data": {
      "text/plain": [
<<<<<<< HEAD
       "RandomForestClassifier(bootstrap=True, class_weight={0: 0.2, 1: 0.9, 2: 0.2},\n",
=======
       "RandomForestClassifier(bootstrap=True, class_weight={0: 2, 1: 0.8, 2: 0.2},\n",
>>>>>>> ad2ddd2c7d12b29aed1437f51a8e4132b41c7dd6
       "                       criterion='gini', max_depth=None, max_features='auto',\n",
       "                       max_leaf_nodes=None, min_impurity_decrease=0.0,\n",
       "                       min_impurity_split=None, min_samples_leaf=1,\n",
       "                       min_samples_split=2, min_weight_fraction_leaf=0.0,\n",
       "                       n_estimators=1000, n_jobs=None, oob_score=False,\n",
       "                       random_state=None, verbose=0, warm_start=False)"
      ]
     },
<<<<<<< HEAD
     "execution_count": 277,
=======
     "execution_count": 117,
>>>>>>> ad2ddd2c7d12b29aed1437f51a8e4132b41c7dd6
     "metadata": {},
     "output_type": "execute_result"
    }
   ],
   "source": [
<<<<<<< HEAD
    "from sklearn.ensemble import RandomForestClassifier\n",
    "weights = {0:0.2,1:0.9,2:0.2}\n",
    "grid = RandomForestClassifier(n_estimators=1000, class_weight=weights)\n",
    "grid.fit(X_train,y_train)\n",
    "\n"
=======
    "# Import Random Forest\n",
    "from sklearn.ensemble import RandomForestClassifier\n",
    "\n",
    "#giving weight to each outcome to train model\n",
    "weights = {0:2,1:0.8,2:0.2}\n",
    "\n",
    "# Creating Classifier with estimators and weights\n",
    "grid = RandomForestClassifier(n_estimators=1000, class_weight=weights)\n",
    "\n",
    "# Training the model\n",
    "grid.fit(X_train,y_train)"
>>>>>>> ad2ddd2c7d12b29aed1437f51a8e4132b41c7dd6
   ]
  },
  {
   "cell_type": "code",
<<<<<<< HEAD
   "execution_count": 278,
   "metadata": {},
   "outputs": [],
   "source": [
    "# param_grid = {\"n_estimators\" : [50, 100, 200, 300],\n",
    "#              \"max_depth\" : [None, 6, 8, 10],\n",
    "#              \"max_leaf_nodes\": [None, 5, 10, 20]}\n",
    "\n",
    "# from sklearn.model_selection import GridSearchCV\n",
    "\n",
    "# grid = GridSearchCV(classifier, param_grid=param_grid, cv=5, verbose=2)\n",
    "\n",
    "# grid.fit(X_train,y_train)"
=======
   "execution_count": 118,
   "metadata": {},
   "outputs": [],
   "source": [
    "# param_grid = {\"n_estimators\" : [50, 100, 200,250],\n",
    "#              \"max_depth\" : [None, 6, 8, 10],\n",
    "#              \"max_leaf_nodes\": [None, 5, 10, 20]}\n",
    "# from sklearn.model_selection import GridSearchCV\n",
    "# grid = GridSearchCV(grid, param_grid=param_grid, cv=5, verbose=2)\n",
    "# # grid.fit(X_train,y_train)"
>>>>>>> ad2ddd2c7d12b29aed1437f51a8e4132b41c7dd6
   ]
  },
  {
   "cell_type": "code",
<<<<<<< HEAD
   "execution_count": 279,
=======
   "execution_count": 119,
>>>>>>> ad2ddd2c7d12b29aed1437f51a8e4132b41c7dd6
   "metadata": {},
   "outputs": [
    {
     "name": "stdout",
     "output_type": "stream",
     "text": [
<<<<<<< HEAD
      "Training Data Score: 0.9940951719346995\n",
=======
      "Training Data Score: 0.993747829107329\n",
>>>>>>> ad2ddd2c7d12b29aed1437f51a8e4132b41c7dd6
      "Testing Data Score: 0.8385416666666666\n"
     ]
    }
   ],
   "source": [
<<<<<<< HEAD
=======
    "# Print Training and Test data\n",
>>>>>>> ad2ddd2c7d12b29aed1437f51a8e4132b41c7dd6
    "print(f\"Training Data Score: {grid.score(X_train, y_train)}\")\n",
    "print(f\"Testing Data Score: {grid.score(X_test, y_test)}\")"
   ]
  },
  {
   "cell_type": "code",
<<<<<<< HEAD
   "execution_count": 280,
=======
   "execution_count": 120,
>>>>>>> ad2ddd2c7d12b29aed1437f51a8e4132b41c7dd6
   "metadata": {},
   "outputs": [
    {
     "name": "stdout",
     "output_type": "stream",
     "text": [
      "First 10 Predictions:   [2 2 2 0 2 2 2 2 1 2]\n",
      "First 10 Actual labels: [2, 2, 2, 0, 2, 2, 2, 2, 1, 2]\n"
     ]
    }
   ],
   "source": [
<<<<<<< HEAD
=======
    "# Prit out dredictions vs reality\n",
>>>>>>> ad2ddd2c7d12b29aed1437f51a8e4132b41c7dd6
    "predictions = grid.predict(X_test)\n",
    "print(f\"First 10 Predictions:   {predictions[:10]}\")\n",
    "print(f\"First 10 Actual labels: {y_test[:10].tolist()}\") "
   ]
  },
  {
   "cell_type": "code",
<<<<<<< HEAD
   "execution_count": 281,
=======
   "execution_count": 121,
>>>>>>> ad2ddd2c7d12b29aed1437f51a8e4132b41c7dd6
   "metadata": {},
   "outputs": [
    {
     "data": {
      "text/html": [
       "<div>\n",
       "<style scoped>\n",
       "    .dataframe tbody tr th:only-of-type {\n",
       "        vertical-align: middle;\n",
       "    }\n",
       "\n",
       "    .dataframe tbody tr th {\n",
       "        vertical-align: top;\n",
       "    }\n",
       "\n",
       "    .dataframe thead th {\n",
       "        text-align: right;\n",
       "    }\n",
       "</style>\n",
       "<table border=\"1\" class=\"dataframe\">\n",
       "  <thead>\n",
       "    <tr style=\"text-align: right;\">\n",
       "      <th></th>\n",
       "      <th>Prediction</th>\n",
       "      <th>Actual</th>\n",
       "      <th>P(No Injury)</th>\n",
       "      <th>P(Injury)</th>\n",
       "      <th>P(Fatility)</th>\n",
       "    </tr>\n",
       "  </thead>\n",
       "  <tbody>\n",
       "    <tr>\n",
       "      <th>0</th>\n",
       "      <td>2</td>\n",
       "      <td>2</td>\n",
<<<<<<< HEAD
       "      <td>0.025</td>\n",
       "      <td>0.154000</td>\n",
       "      <td>0.821000</td>\n",
=======
       "      <td>0.030</td>\n",
       "      <td>0.101667</td>\n",
       "      <td>0.868333</td>\n",
>>>>>>> ad2ddd2c7d12b29aed1437f51a8e4132b41c7dd6
       "    </tr>\n",
       "    <tr>\n",
       "      <th>1</th>\n",
       "      <td>2</td>\n",
       "      <td>2</td>\n",
<<<<<<< HEAD
       "      <td>0.024</td>\n",
       "      <td>0.060000</td>\n",
       "      <td>0.916000</td>\n",
=======
       "      <td>0.034</td>\n",
       "      <td>0.075000</td>\n",
       "      <td>0.891000</td>\n",
>>>>>>> ad2ddd2c7d12b29aed1437f51a8e4132b41c7dd6
       "    </tr>\n",
       "    <tr>\n",
       "      <th>2</th>\n",
       "      <td>2</td>\n",
       "      <td>2</td>\n",
<<<<<<< HEAD
       "      <td>0.015</td>\n",
       "      <td>0.091832</td>\n",
       "      <td>0.893168</td>\n",
=======
       "      <td>0.006</td>\n",
       "      <td>0.126107</td>\n",
       "      <td>0.867893</td>\n",
>>>>>>> ad2ddd2c7d12b29aed1437f51a8e4132b41c7dd6
       "    </tr>\n",
       "    <tr>\n",
       "      <th>3</th>\n",
       "      <td>0</td>\n",
       "      <td>0</td>\n",
<<<<<<< HEAD
       "      <td>0.917</td>\n",
       "      <td>0.075000</td>\n",
       "      <td>0.008000</td>\n",
=======
       "      <td>0.911</td>\n",
       "      <td>0.076000</td>\n",
       "      <td>0.013000</td>\n",
>>>>>>> ad2ddd2c7d12b29aed1437f51a8e4132b41c7dd6
       "    </tr>\n",
       "    <tr>\n",
       "      <th>4</th>\n",
       "      <td>2</td>\n",
       "      <td>2</td>\n",
<<<<<<< HEAD
       "      <td>0.010</td>\n",
       "      <td>0.136000</td>\n",
       "      <td>0.854000</td>\n",
=======
       "      <td>0.017</td>\n",
       "      <td>0.144000</td>\n",
       "      <td>0.839000</td>\n",
>>>>>>> ad2ddd2c7d12b29aed1437f51a8e4132b41c7dd6
       "    </tr>\n",
       "    <tr>\n",
       "      <th>5</th>\n",
       "      <td>2</td>\n",
       "      <td>2</td>\n",
<<<<<<< HEAD
       "      <td>0.000</td>\n",
       "      <td>0.172000</td>\n",
       "      <td>0.828000</td>\n",
=======
       "      <td>0.001</td>\n",
       "      <td>0.168000</td>\n",
       "      <td>0.831000</td>\n",
>>>>>>> ad2ddd2c7d12b29aed1437f51a8e4132b41c7dd6
       "    </tr>\n",
       "    <tr>\n",
       "      <th>6</th>\n",
       "      <td>2</td>\n",
       "      <td>2</td>\n",
       "      <td>0.004</td>\n",
<<<<<<< HEAD
       "      <td>0.026000</td>\n",
       "      <td>0.970000</td>\n",
=======
       "      <td>0.030000</td>\n",
       "      <td>0.966000</td>\n",
>>>>>>> ad2ddd2c7d12b29aed1437f51a8e4132b41c7dd6
       "    </tr>\n",
       "    <tr>\n",
       "      <th>7</th>\n",
       "      <td>2</td>\n",
       "      <td>2</td>\n",
<<<<<<< HEAD
       "      <td>0.045</td>\n",
       "      <td>0.071000</td>\n",
       "      <td>0.884000</td>\n",
=======
       "      <td>0.031</td>\n",
       "      <td>0.077000</td>\n",
       "      <td>0.892000</td>\n",
>>>>>>> ad2ddd2c7d12b29aed1437f51a8e4132b41c7dd6
       "    </tr>\n",
       "    <tr>\n",
       "      <th>8</th>\n",
       "      <td>1</td>\n",
       "      <td>1</td>\n",
<<<<<<< HEAD
       "      <td>0.078</td>\n",
       "      <td>0.737000</td>\n",
       "      <td>0.185000</td>\n",
=======
       "      <td>0.041</td>\n",
       "      <td>0.733667</td>\n",
       "      <td>0.225333</td>\n",
>>>>>>> ad2ddd2c7d12b29aed1437f51a8e4132b41c7dd6
       "    </tr>\n",
       "    <tr>\n",
       "      <th>9</th>\n",
       "      <td>2</td>\n",
       "      <td>2</td>\n",
<<<<<<< HEAD
       "      <td>0.027</td>\n",
       "      <td>0.004000</td>\n",
       "      <td>0.969000</td>\n",
=======
       "      <td>0.017</td>\n",
       "      <td>0.000000</td>\n",
       "      <td>0.983000</td>\n",
>>>>>>> ad2ddd2c7d12b29aed1437f51a8e4132b41c7dd6
       "    </tr>\n",
       "  </tbody>\n",
       "</table>\n",
       "</div>"
      ],
      "text/plain": [
       "   Prediction  Actual  P(No Injury)  P(Injury)  P(Fatility)\n",
<<<<<<< HEAD
       "0           2       2         0.025   0.154000     0.821000\n",
       "1           2       2         0.024   0.060000     0.916000\n",
       "2           2       2         0.015   0.091832     0.893168\n",
       "3           0       0         0.917   0.075000     0.008000\n",
       "4           2       2         0.010   0.136000     0.854000\n",
       "5           2       2         0.000   0.172000     0.828000\n",
       "6           2       2         0.004   0.026000     0.970000\n",
       "7           2       2         0.045   0.071000     0.884000\n",
       "8           1       1         0.078   0.737000     0.185000\n",
       "9           2       2         0.027   0.004000     0.969000"
      ]
     },
     "execution_count": 281,
=======
       "0           2       2         0.030   0.101667     0.868333\n",
       "1           2       2         0.034   0.075000     0.891000\n",
       "2           2       2         0.006   0.126107     0.867893\n",
       "3           0       0         0.911   0.076000     0.013000\n",
       "4           2       2         0.017   0.144000     0.839000\n",
       "5           2       2         0.001   0.168000     0.831000\n",
       "6           2       2         0.004   0.030000     0.966000\n",
       "7           2       2         0.031   0.077000     0.892000\n",
       "8           1       1         0.041   0.733667     0.225333\n",
       "9           2       2         0.017   0.000000     0.983000"
      ]
     },
     "execution_count": 121,
>>>>>>> ad2ddd2c7d12b29aed1437f51a8e4132b41c7dd6
     "metadata": {},
     "output_type": "execute_result"
    }
   ],
   "source": [
<<<<<<< HEAD
=======
    "# Visualize probability of each outcome\n",
>>>>>>> ad2ddd2c7d12b29aed1437f51a8e4132b41c7dd6
    "probs = grid.predict_proba(X_test)\n",
    "pred_df = pd.DataFrame({\n",
    "    \"Prediction\": predictions, \n",
    "    \"Actual\": y_test, \n",
    "    \"P(No Injury)\": [p[0] for p in probs], \n",
    "    \"P(Injury)\": [p[1] for p in probs],\n",
    "    \"P(Fatility)\": [p[2] for p in probs]\n",
    "    }).reset_index(drop=True)\n",
    "\n",
    "pred_df.head(10)"
   ]
  },
  {
   "cell_type": "code",
<<<<<<< HEAD
   "execution_count": 282,
   "metadata": {},
   "outputs": [],
   "source": [
=======
   "execution_count": 122,
   "metadata": {},
   "outputs": [],
   "source": [
    "# Imported so that confusion matrix can be plotted. Import code from SKLearn is broken\n",
>>>>>>> ad2ddd2c7d12b29aed1437f51a8e4132b41c7dd6
    "def plot_confusion_matrix(cm, classes,\n",
    "                          normalize=False,\n",
    "                          title='Confusion matrix',\n",
    "                          cmap=plt.cm.Blues):\n",
    "    \"\"\"\n",
    "    This function prints and plots the confusion matrix.\n",
    "    Normalization can be applied by setting `normalize=True`.\n",
    "    \"\"\"\n",
    "    import itertools\n",
    "    if normalize:\n",
    "        cm = cm.astype('float') / cm.sum(axis=1)[:, np.newaxis]\n",
    "        print(\"Normalized confusion matrix\")\n",
    "    else:\n",
    "        print('Confusion matrix, without normalization')\n",
    "\n",
    "    print(cm)\n",
    "\n",
    "    plt.imshow(cm, interpolation='nearest', cmap=cmap)\n",
    "    plt.title(title)\n",
    "    plt.colorbar()\n",
    "    tick_marks = np.arange(len(classes))\n",
    "    plt.xticks(tick_marks, classes, rotation=45)\n",
    "    plt.yticks(tick_marks, classes)\n",
    "\n",
    "    fmt = '.2f' if normalize else 'd'\n",
    "    thresh = cm.max() / 2.\n",
    "    for i, j in itertools.product(range(cm.shape[0]), range(cm.shape[1])):\n",
    "        plt.text(j, i, format(cm[i, j], fmt),\n",
    "                 horizontalalignment=\"center\",\n",
    "                 color=\"white\" if cm[i, j] > thresh else \"black\")\n",
    "\n",
    "    plt.ylabel('True label')\n",
    "    plt.xlabel('Predicted label')\n",
    "    plt.tight_layout()"
   ]
  },
  {
   "cell_type": "code",
<<<<<<< HEAD
   "execution_count": 283,
=======
   "execution_count": 123,
>>>>>>> ad2ddd2c7d12b29aed1437f51a8e4132b41c7dd6
   "metadata": {},
   "outputs": [
    {
     "name": "stdout",
     "output_type": "stream",
     "text": [
      "Confusion matrix, without normalization\n",
<<<<<<< HEAD
      "[[242  24   9]\n",
      " [ 65  37  30]\n",
      " [ 15  12 526]]\n"
=======
      "[[237  27  11]\n",
      " [ 62  41  29]\n",
      " [ 14  12 527]]\n"
>>>>>>> ad2ddd2c7d12b29aed1437f51a8e4132b41c7dd6
     ]
    },
    {
     "data": {
<<<<<<< HEAD
      "image/png": "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\n",
=======
      "image/png": "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\n",
>>>>>>> ad2ddd2c7d12b29aed1437f51a8e4132b41c7dd6
      "text/plain": [
       "<Figure size 432x288 with 2 Axes>"
      ]
     },
     "metadata": {
      "needs_background": "light"
     },
     "output_type": "display_data"
    }
   ],
   "source": [
<<<<<<< HEAD
=======
    "# Create confusion matrix and matricies for [0] - No Injury; [1] - Injured\n",
>>>>>>> ad2ddd2c7d12b29aed1437f51a8e4132b41c7dd6
    "from sklearn.metrics import confusion_matrix\n",
    "cm = confusion_matrix(y_test,predictions)\n",
    "\n",
    "plot_confusion_matrix(cm, cmap=plt.cm.Blues, classes=['No Injury','Injured','Dead'])"
   ]
  },
  {
   "cell_type": "code",
<<<<<<< HEAD
   "execution_count": 228,
   "metadata": {},
   "outputs": [
    {
     "data": {
      "text/plain": [
       "{'max_depth': 10, 'max_leaf_nodes': None, 'n_estimators': 50}"
      ]
     },
     "execution_count": 228,
     "metadata": {},
     "output_type": "execute_result"
    }
   ],
   "source": [
    "grid.best_params_"
   ]
  },
  {
   "cell_type": "code",
   "execution_count": 229,
   "metadata": {},
   "outputs": [
    {
     "data": {
      "text/plain": [
       "0.8325807572073637"
      ]
     },
     "execution_count": 229,
     "metadata": {},
     "output_type": "execute_result"
    }
   ],
   "source": [
    "grid.best_score_"
   ]
  },
  {
   "cell_type": "code",
   "execution_count": 297,
=======
   "execution_count": 124,
>>>>>>> ad2ddd2c7d12b29aed1437f51a8e4132b41c7dd6
   "metadata": {},
   "outputs": [
    {
     "data": {
      "text/html": [
       "<div>\n",
       "<style scoped>\n",
       "    .dataframe tbody tr th:only-of-type {\n",
       "        vertical-align: middle;\n",
       "    }\n",
       "\n",
       "    .dataframe tbody tr th {\n",
       "        vertical-align: top;\n",
       "    }\n",
       "\n",
       "    .dataframe thead th {\n",
       "        text-align: right;\n",
       "    }\n",
       "</style>\n",
       "<table border=\"1\" class=\"dataframe\">\n",
       "  <thead>\n",
       "    <tr style=\"text-align: right;\">\n",
       "      <th></th>\n",
       "      <th>Feature</th>\n",
       "      <th>Importance</th>\n",
       "    </tr>\n",
       "  </thead>\n",
       "  <tbody>\n",
       "    <tr>\n",
<<<<<<< HEAD
       "      <th>0</th>\n",
       "      <td>Age</td>\n",
       "      <td>0.259344</td>\n",
       "    </tr>\n",
       "    <tr>\n",
       "      <th>4</th>\n",
       "      <td>Helmet Use</td>\n",
       "      <td>0.205897</td>\n",
=======
       "      <th>4</th>\n",
       "      <td>Helmet Use</td>\n",
       "      <td>0.340870</td>\n",
       "    </tr>\n",
       "    <tr>\n",
       "      <th>0</th>\n",
       "      <td>Age</td>\n",
       "      <td>0.224588</td>\n",
>>>>>>> ad2ddd2c7d12b29aed1437f51a8e4132b41c7dd6
       "    </tr>\n",
       "    <tr>\n",
       "      <th>3</th>\n",
       "      <td>Previous Speeding</td>\n",
<<<<<<< HEAD
       "      <td>0.055182</td>\n",
=======
       "      <td>0.048779</td>\n",
>>>>>>> ad2ddd2c7d12b29aed1437f51a8e4132b41c7dd6
       "    </tr>\n",
       "    <tr>\n",
       "      <th>1</th>\n",
       "      <td>Previous Accident</td>\n",
<<<<<<< HEAD
       "      <td>0.041346</td>\n",
       "    </tr>\n",
       "    <tr>\n",
       "      <th>25</th>\n",
       "      <td>Female</td>\n",
       "      <td>0.024017</td>\n",
=======
       "      <td>0.034542</td>\n",
>>>>>>> ad2ddd2c7d12b29aed1437f51a8e4132b41c7dd6
       "    </tr>\n",
       "    <tr>\n",
       "      <th>23</th>\n",
       "      <td>Saturday</td>\n",
<<<<<<< HEAD
       "      <td>0.023601</td>\n",
       "    </tr>\n",
       "    <tr>\n",
       "      <th>24</th>\n",
       "      <td>Male</td>\n",
       "      <td>0.021671</td>\n",
=======
       "      <td>0.017936</td>\n",
>>>>>>> ad2ddd2c7d12b29aed1437f51a8e4132b41c7dd6
       "    </tr>\n",
       "    <tr>\n",
       "      <th>17</th>\n",
       "      <td>Sunday</td>\n",
<<<<<<< HEAD
       "      <td>0.019932</td>\n",
       "    </tr>\n",
       "    <tr>\n",
       "      <th>22</th>\n",
       "      <td>Friday</td>\n",
       "      <td>0.018194</td>\n",
=======
       "      <td>0.016429</td>\n",
       "    </tr>\n",
       "    <tr>\n",
       "      <th>29</th>\n",
       "      <td>No Drinking</td>\n",
       "      <td>0.015558</td>\n",
       "    </tr>\n",
       "    <tr>\n",
       "      <th>11</th>\n",
       "      <td>July</td>\n",
       "      <td>0.015061</td>\n",
>>>>>>> ad2ddd2c7d12b29aed1437f51a8e4132b41c7dd6
       "    </tr>\n",
       "    <tr>\n",
       "      <th>31</th>\n",
       "      <td>Clear Weather</td>\n",
<<<<<<< HEAD
       "      <td>0.017870</td>\n",
       "    </tr>\n",
       "    <tr>\n",
       "      <th>10</th>\n",
       "      <td>June</td>\n",
       "      <td>0.017792</td>\n",
       "    </tr>\n",
       "    <tr>\n",
       "      <th>11</th>\n",
       "      <td>July</td>\n",
       "      <td>0.017766</td>\n",
=======
       "      <td>0.014674</td>\n",
       "    </tr>\n",
       "    <tr>\n",
       "      <th>22</th>\n",
       "      <td>Friday</td>\n",
       "      <td>0.014637</td>\n",
       "    </tr>\n",
       "    <tr>\n",
       "      <th>10</th>\n",
       "      <td>June</td>\n",
       "      <td>0.014465</td>\n",
>>>>>>> ad2ddd2c7d12b29aed1437f51a8e4132b41c7dd6
       "    </tr>\n",
       "    <tr>\n",
       "      <th>37</th>\n",
       "      <td>Cloudy Weather</td>\n",
<<<<<<< HEAD
       "      <td>0.017242</td>\n",
       "    </tr>\n",
       "    <tr>\n",
       "      <th>9</th>\n",
       "      <td>May</td>\n",
       "      <td>0.016929</td>\n",
=======
       "      <td>0.014354</td>\n",
       "    </tr>\n",
       "    <tr>\n",
       "      <th>30</th>\n",
       "      <td>Drinking Reported</td>\n",
       "      <td>0.014252</td>\n",
>>>>>>> ad2ddd2c7d12b29aed1437f51a8e4132b41c7dd6
       "    </tr>\n",
       "    <tr>\n",
       "      <th>14</th>\n",
       "      <td>October</td>\n",
<<<<<<< HEAD
       "      <td>0.016917</td>\n",
       "    </tr>\n",
       "    <tr>\n",
       "      <th>12</th>\n",
       "      <td>August</td>\n",
       "      <td>0.015945</td>\n",
=======
       "      <td>0.013438</td>\n",
>>>>>>> ad2ddd2c7d12b29aed1437f51a8e4132b41c7dd6
       "    </tr>\n",
       "    <tr>\n",
       "      <th>7</th>\n",
       "      <td>March</td>\n",
<<<<<<< HEAD
       "      <td>0.015517</td>\n",
       "    </tr>\n",
       "    <tr>\n",
       "      <th>21</th>\n",
       "      <td>Thursday</td>\n",
       "      <td>0.015315</td>\n",
       "    </tr>\n",
       "    <tr>\n",
       "      <th>18</th>\n",
       "      <td>Monday</td>\n",
       "      <td>0.014731</td>\n",
       "    </tr>\n",
       "    <tr>\n",
       "      <th>8</th>\n",
       "      <td>April</td>\n",
       "      <td>0.014682</td>\n",
=======
       "      <td>0.013355</td>\n",
       "    </tr>\n",
       "    <tr>\n",
       "      <th>9</th>\n",
       "      <td>May</td>\n",
       "      <td>0.012928</td>\n",
       "    </tr>\n",
       "    <tr>\n",
       "      <th>21</th>\n",
       "      <td>Thursday</td>\n",
       "      <td>0.012840</td>\n",
>>>>>>> ad2ddd2c7d12b29aed1437f51a8e4132b41c7dd6
       "    </tr>\n",
       "    <tr>\n",
       "      <th>13</th>\n",
       "      <td>September</td>\n",
<<<<<<< HEAD
       "      <td>0.014417</td>\n",
       "    </tr>\n",
       "    <tr>\n",
       "      <th>15</th>\n",
       "      <td>November</td>\n",
       "      <td>0.014058</td>\n",
       "    </tr>\n",
       "    <tr>\n",
       "      <th>20</th>\n",
       "      <td>Wednesday</td>\n",
       "      <td>0.013497</td>\n",
=======
       "      <td>0.012803</td>\n",
       "    </tr>\n",
       "    <tr>\n",
       "      <th>12</th>\n",
       "      <td>August</td>\n",
       "      <td>0.012547</td>\n",
       "    </tr>\n",
       "    <tr>\n",
       "      <th>8</th>\n",
       "      <td>April</td>\n",
       "      <td>0.012444</td>\n",
       "    </tr>\n",
       "    <tr>\n",
       "      <th>19</th>\n",
       "      <td>Tuesday</td>\n",
       "      <td>0.011943</td>\n",
>>>>>>> ad2ddd2c7d12b29aed1437f51a8e4132b41c7dd6
       "    </tr>\n",
       "    <tr>\n",
       "      <th>6</th>\n",
       "      <td>February</td>\n",
<<<<<<< HEAD
       "      <td>0.013350</td>\n",
       "    </tr>\n",
       "    <tr>\n",
       "      <th>19</th>\n",
       "      <td>Tuesday</td>\n",
       "      <td>0.013196</td>\n",
       "    </tr>\n",
       "    <tr>\n",
       "      <th>16</th>\n",
       "      <td>December</td>\n",
       "      <td>0.011709</td>\n",
       "    </tr>\n",
       "    <tr>\n",
       "      <th>29</th>\n",
       "      <td>No Drinking</td>\n",
       "      <td>0.011527</td>\n",
       "    </tr>\n",
       "    <tr>\n",
       "      <th>5</th>\n",
       "      <td>January</td>\n",
       "      <td>0.011176</td>\n",
       "    </tr>\n",
       "    <tr>\n",
       "      <th>30</th>\n",
       "      <td>Drinking Reported</td>\n",
       "      <td>0.010882</td>\n",
=======
       "      <td>0.010773</td>\n",
       "    </tr>\n",
       "    <tr>\n",
       "      <th>18</th>\n",
       "      <td>Monday</td>\n",
       "      <td>0.010443</td>\n",
       "    </tr>\n",
       "    <tr>\n",
       "      <th>24</th>\n",
       "      <td>Male</td>\n",
       "      <td>0.010250</td>\n",
       "    </tr>\n",
       "    <tr>\n",
       "      <th>25</th>\n",
       "      <td>Female</td>\n",
       "      <td>0.010161</td>\n",
       "    </tr>\n",
       "    <tr>\n",
       "      <th>15</th>\n",
       "      <td>November</td>\n",
       "      <td>0.009511</td>\n",
       "    </tr>\n",
       "    <tr>\n",
       "      <th>20</th>\n",
       "      <td>Wednesday</td>\n",
       "      <td>0.009460</td>\n",
       "    </tr>\n",
       "    <tr>\n",
       "      <th>16</th>\n",
       "      <td>December</td>\n",
       "      <td>0.009030</td>\n",
>>>>>>> ad2ddd2c7d12b29aed1437f51a8e4132b41c7dd6
       "    </tr>\n",
       "    <tr>\n",
       "      <th>27</th>\n",
       "      <td>No Drugs</td>\n",
<<<<<<< HEAD
       "      <td>0.008865</td>\n",
=======
       "      <td>0.008374</td>\n",
       "    </tr>\n",
       "    <tr>\n",
       "      <th>5</th>\n",
       "      <td>January</td>\n",
       "      <td>0.007969</td>\n",
>>>>>>> ad2ddd2c7d12b29aed1437f51a8e4132b41c7dd6
       "    </tr>\n",
       "    <tr>\n",
       "      <th>28</th>\n",
       "      <td>Drug Use Reported</td>\n",
<<<<<<< HEAD
       "      <td>0.008512</td>\n",
=======
       "      <td>0.007801</td>\n",
>>>>>>> ad2ddd2c7d12b29aed1437f51a8e4132b41c7dd6
       "    </tr>\n",
       "    <tr>\n",
       "      <th>2</th>\n",
       "      <td>Previous DWI</td>\n",
<<<<<<< HEAD
       "      <td>0.008123</td>\n",
=======
       "      <td>0.006700</td>\n",
>>>>>>> ad2ddd2c7d12b29aed1437f51a8e4132b41c7dd6
       "    </tr>\n",
       "    <tr>\n",
       "      <th>32</th>\n",
       "      <td>Rainy Weather</td>\n",
<<<<<<< HEAD
       "      <td>0.007135</td>\n",
       "    </tr>\n",
       "    <tr>\n",
       "      <th>33</th>\n",
       "      <td>Foggy Weather</td>\n",
       "      <td>0.001867</td>\n",
=======
       "      <td>0.005135</td>\n",
>>>>>>> ad2ddd2c7d12b29aed1437f51a8e4132b41c7dd6
       "    </tr>\n",
       "    <tr>\n",
       "      <th>35</th>\n",
       "      <td>Blowing Sand Weather</td>\n",
<<<<<<< HEAD
       "      <td>0.001182</td>\n",
=======
       "      <td>0.002799</td>\n",
       "    </tr>\n",
       "    <tr>\n",
       "      <th>33</th>\n",
       "      <td>Foggy Weather</td>\n",
       "      <td>0.001943</td>\n",
>>>>>>> ad2ddd2c7d12b29aed1437f51a8e4132b41c7dd6
       "    </tr>\n",
       "    <tr>\n",
       "      <th>34</th>\n",
       "      <td>Severly Windy Weather</td>\n",
<<<<<<< HEAD
       "      <td>0.000574</td>\n",
       "    </tr>\n",
       "    <tr>\n",
       "      <th>26</th>\n",
       "      <td>Gender Nuetral</td>\n",
       "      <td>0.000040</td>\n",
=======
       "      <td>0.001174</td>\n",
       "    </tr>\n",
       "    <tr>\n",
       "      <th>26</th>\n",
       "      <td>Gender Neutral</td>\n",
       "      <td>0.000032</td>\n",
>>>>>>> ad2ddd2c7d12b29aed1437f51a8e4132b41c7dd6
       "    </tr>\n",
       "    <tr>\n",
       "      <th>36</th>\n",
       "      <td>Other Weather</td>\n",
       "      <td>0.000000</td>\n",
       "    </tr>\n",
       "  </tbody>\n",
       "</table>\n",
       "</div>"
      ],
      "text/plain": [
       "                  Feature  Importance\n",
<<<<<<< HEAD
       "0                     Age    0.259344\n",
       "4              Helmet Use    0.205897\n",
       "3       Previous Speeding    0.055182\n",
       "1       Previous Accident    0.041346\n",
       "25                 Female    0.024017\n",
       "23               Saturday    0.023601\n",
       "24                   Male    0.021671\n",
       "17                 Sunday    0.019932\n",
       "22                 Friday    0.018194\n",
       "31          Clear Weather    0.017870\n",
       "10                   June    0.017792\n",
       "11                   July    0.017766\n",
       "37         Cloudy Weather    0.017242\n",
       "9                     May    0.016929\n",
       "14                October    0.016917\n",
       "12                 August    0.015945\n",
       "7                   March    0.015517\n",
       "21               Thursday    0.015315\n",
       "18                 Monday    0.014731\n",
       "8                   April    0.014682\n",
       "13              September    0.014417\n",
       "15               November    0.014058\n",
       "20              Wednesday    0.013497\n",
       "6                February    0.013350\n",
       "19                Tuesday    0.013196\n",
       "16               December    0.011709\n",
       "29            No Drinking    0.011527\n",
       "5                 January    0.011176\n",
       "30      Drinking Reported    0.010882\n",
       "27               No Drugs    0.008865\n",
       "28      Drug Use Reported    0.008512\n",
       "2            Previous DWI    0.008123\n",
       "32          Rainy Weather    0.007135\n",
       "33          Foggy Weather    0.001867\n",
       "35   Blowing Sand Weather    0.001182\n",
       "34  Severly Windy Weather    0.000574\n",
       "26         Gender Nuetral    0.000040\n",
       "36          Other Weather    0.000000"
      ]
     },
     "execution_count": 297,
=======
       "4              Helmet Use    0.340870\n",
       "0                     Age    0.224588\n",
       "3       Previous Speeding    0.048779\n",
       "1       Previous Accident    0.034542\n",
       "23               Saturday    0.017936\n",
       "17                 Sunday    0.016429\n",
       "29            No Drinking    0.015558\n",
       "11                   July    0.015061\n",
       "31          Clear Weather    0.014674\n",
       "22                 Friday    0.014637\n",
       "10                   June    0.014465\n",
       "37         Cloudy Weather    0.014354\n",
       "30      Drinking Reported    0.014252\n",
       "14                October    0.013438\n",
       "7                   March    0.013355\n",
       "9                     May    0.012928\n",
       "21               Thursday    0.012840\n",
       "13              September    0.012803\n",
       "12                 August    0.012547\n",
       "8                   April    0.012444\n",
       "19                Tuesday    0.011943\n",
       "6                February    0.010773\n",
       "18                 Monday    0.010443\n",
       "24                   Male    0.010250\n",
       "25                 Female    0.010161\n",
       "15               November    0.009511\n",
       "20              Wednesday    0.009460\n",
       "16               December    0.009030\n",
       "27               No Drugs    0.008374\n",
       "5                 January    0.007969\n",
       "28      Drug Use Reported    0.007801\n",
       "2            Previous DWI    0.006700\n",
       "32          Rainy Weather    0.005135\n",
       "35   Blowing Sand Weather    0.002799\n",
       "33          Foggy Weather    0.001943\n",
       "34  Severly Windy Weather    0.001174\n",
       "26         Gender Neutral    0.000032\n",
       "36          Other Weather    0.000000"
      ]
     },
     "execution_count": 124,
>>>>>>> ad2ddd2c7d12b29aed1437f51a8e4132b41c7dd6
     "metadata": {},
     "output_type": "execute_result"
    }
   ],
   "source": [
<<<<<<< HEAD
    "pd.DataFrame({'Feature':X_train.columns, 'Importance':grid.feature_importances_}).sort_values(by='Importance', ascending=False)"
   ]
  },
  {
   "cell_type": "code",
   "execution_count": 290,
   "metadata": {},
   "outputs": [
    {
     "data": {
      "text/plain": [
       "[0.25934367009781145,\n",
       " 0.04134574071391504,\n",
       " 0.008123384930893854,\n",
       " 0.05518156946809162,\n",
       " 0.20589692181498806,\n",
       " 0.011176372369908285,\n",
       " 0.013350426920206337,\n",
       " 0.015516547307372291,\n",
       " 0.014682385872625875,\n",
       " 0.016929309333705865,\n",
       " 0.01779218404574474,\n",
       " 0.017765582835968918,\n",
       " 0.015944751752580255,\n",
       " 0.014417225168544181,\n",
       " 0.01691661499527202,\n",
       " 0.01405798209798017,\n",
       " 0.011709218486461778,\n",
       " 0.019932077260034195,\n",
       " 0.014731300208546572,\n",
       " 0.013196272636992511,\n",
       " 0.013496572533386972,\n",
       " 0.015315357037485787,\n",
       " 0.018194014890677943,\n",
       " 0.023601214301379687,\n",
       " 0.021670694835178916,\n",
       " 0.0240170896632461,\n",
       " 4.0248244898860704e-05,\n",
       " 0.008864893539561094,\n",
       " 0.008511604482270396,\n",
       " 0.011527466049790675,\n",
       " 0.010881851312600284,\n",
       " 0.0178695681377106,\n",
       " 0.007135022722133621,\n",
       " 0.001866846005005388,\n",
       " 0.0005744300706974288,\n",
       " 0.0011817231284584335,\n",
       " 0.0,\n",
       " 0.01724186472787397]"
      ]
     },
     "execution_count": 290,
     "metadata": {},
     "output_type": "execute_result"
    }
   ],
   "source": [
    "list(grid.feature_importances_)\n"
   ]
  },
  {
   "cell_type": "code",
   "execution_count": 288,
   "metadata": {},
   "outputs": [
    {
     "data": {
      "text/plain": [
       "['Age',\n",
       " 'Previous Accident',\n",
       " 'Previous DWI',\n",
       " 'Previous Speeding',\n",
       " 'Helmet Use',\n",
       " 'January',\n",
       " 'February',\n",
       " 'March',\n",
       " 'April',\n",
       " 'May',\n",
       " 'June',\n",
       " 'July',\n",
       " 'August',\n",
       " 'September',\n",
       " 'October',\n",
       " 'November',\n",
       " 'December',\n",
       " 'Sunday',\n",
       " 'Monday',\n",
       " 'Tuesday',\n",
       " 'Wednesday',\n",
       " 'Thursday',\n",
       " 'Friday',\n",
       " 'Saturday',\n",
       " 'Male',\n",
       " 'Female',\n",
       " 'Gender Nuetral',\n",
       " 'No Drugs',\n",
       " 'Drug Use Reported',\n",
       " 'No Drinking',\n",
       " 'Drinking Reported',\n",
       " 'Clear Weather',\n",
       " 'Rainy Weather',\n",
       " 'Foggy Weather',\n",
       " 'Severly Windy Weather',\n",
       " 'Blowing Sand Weather',\n",
       " 'Other Weather',\n",
       " 'Cloudy Weather']"
      ]
     },
     "execution_count": 288,
     "metadata": {},
     "output_type": "execute_result"
    }
   ],
   "source": [
    "list(X_train.columns)"
   ]
  },
  {
   "cell_type": "code",
   "execution_count": null,
   "metadata": {},
   "outputs": [],
   "source": []
=======
    "# Plot out feature importance descending\n",
    "pd.DataFrame({'Feature':X_train.columns, 'Importance':grid.feature_importances_}).sort_values(by='Importance', ascending=False)"
   ]
>>>>>>> ad2ddd2c7d12b29aed1437f51a8e4132b41c7dd6
  }
 ],
 "metadata": {
  "kernelspec": {
   "display_name": "Python 3",
   "language": "python",
   "name": "python3"
  },
  "language_info": {
   "codemirror_mode": {
    "name": "ipython",
    "version": 3
   },
   "file_extension": ".py",
   "mimetype": "text/x-python",
   "name": "python",
   "nbconvert_exporter": "python",
   "pygments_lexer": "ipython3",
   "version": "3.7.3"
  }
 },
 "nbformat": 4,
 "nbformat_minor": 4
}
